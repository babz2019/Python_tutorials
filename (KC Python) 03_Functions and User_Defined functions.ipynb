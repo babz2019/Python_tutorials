{
 "cells": [
  {
   "cell_type": "code",
   "execution_count": null,
   "id": "4bebb0e0-c3d6-4610-a8df-c94ed43d041e",
   "metadata": {},
   "outputs": [],
   "source": []
  },
  {
   "cell_type": "code",
   "execution_count": null,
   "id": "26526fc4-806c-4395-ae28-a4d22fd78738",
   "metadata": {},
   "outputs": [],
   "source": [
    "# Functions are kind of small programs that do a specific kind of task\n",
    "# Examples of Functions we have used thus far are:"
   ]
  },
  {
   "cell_type": "code",
   "execution_count": null,
   "id": "58a45eca-5635-4238-ab8e-ca9ca6585275",
   "metadata": {},
   "outputs": [],
   "source": [
    "# Examples of Functions: print(), int(), float(), str(), math.pow(), len(), pow()"
   ]
  },
  {
   "cell_type": "code",
   "execution_count": null,
   "id": "06d41e83",
   "metadata": {},
   "outputs": [],
   "source": [
    "# The dir() function is used to print out the modules, packages and builtin class and functions in python"
   ]
  },
  {
   "cell_type": "code",
   "execution_count": 1,
   "id": "3c3250f7-3a3f-4d5d-a2bf-274b2e4a9e36",
   "metadata": {},
   "outputs": [
    {
     "name": "stdout",
     "output_type": "stream",
     "text": [
      "['In', 'Out', '_', '__', '___', '__builtin__', '__builtins__', '__doc__', '__loader__', '__name__', '__package__', '__session__', '__spec__', '_dh', '_i', '_i1', '_ih', '_ii', '_iii', '_oh', 'exit', 'get_ipython', 'open', 'quit']\n"
     ]
    }
   ],
   "source": [
    "print(dir())"
   ]
  },
  {
   "cell_type": "code",
   "execution_count": 2,
   "id": "379f4c1b-f9a7-4120-8479-05cffa644c48",
   "metadata": {},
   "outputs": [
    {
     "name": "stdout",
     "output_type": "stream",
     "text": [
      "['ArithmeticError', 'AssertionError', 'AttributeError', 'BaseException', 'BaseExceptionGroup', 'BlockingIOError', 'BrokenPipeError', 'BufferError', 'BytesWarning', 'ChildProcessError', 'ConnectionAbortedError', 'ConnectionError', 'ConnectionRefusedError', 'ConnectionResetError', 'DeprecationWarning', 'EOFError', 'Ellipsis', 'EncodingWarning', 'EnvironmentError', 'Exception', 'ExceptionGroup', 'False', 'FileExistsError', 'FileNotFoundError', 'FloatingPointError', 'FutureWarning', 'GeneratorExit', 'IOError', 'ImportError', 'ImportWarning', 'IndentationError', 'IndexError', 'InterruptedError', 'IsADirectoryError', 'KeyError', 'KeyboardInterrupt', 'LookupError', 'MemoryError', 'ModuleNotFoundError', 'NameError', 'None', 'NotADirectoryError', 'NotImplemented', 'NotImplementedError', 'OSError', 'OverflowError', 'PendingDeprecationWarning', 'PermissionError', 'ProcessLookupError', 'RecursionError', 'ReferenceError', 'ResourceWarning', 'RuntimeError', 'RuntimeWarning', 'StopAsyncIteration', 'StopIteration', 'SyntaxError', 'SyntaxWarning', 'SystemError', 'SystemExit', 'TabError', 'TimeoutError', 'True', 'TypeError', 'UnboundLocalError', 'UnicodeDecodeError', 'UnicodeEncodeError', 'UnicodeError', 'UnicodeTranslateError', 'UnicodeWarning', 'UserWarning', 'ValueError', 'Warning', 'WindowsError', 'ZeroDivisionError', '__IPYTHON__', '__build_class__', '__debug__', '__doc__', '__import__', '__loader__', '__name__', '__package__', '__spec__', 'abs', 'aiter', 'all', 'anext', 'any', 'ascii', 'bin', 'bool', 'breakpoint', 'bytearray', 'bytes', 'callable', 'chr', 'classmethod', 'compile', 'complex', 'copyright', 'credits', 'delattr', 'dict', 'dir', 'display', 'divmod', 'enumerate', 'eval', 'exec', 'execfile', 'filter', 'float', 'format', 'frozenset', 'get_ipython', 'getattr', 'globals', 'hasattr', 'hash', 'help', 'hex', 'id', 'input', 'int', 'isinstance', 'issubclass', 'iter', 'len', 'license', 'list', 'locals', 'map', 'max', 'memoryview', 'min', 'next', 'object', 'oct', 'open', 'ord', 'pow', 'print', 'property', 'range', 'repr', 'reversed', 'round', 'runfile', 'set', 'setattr', 'slice', 'sorted', 'staticmethod', 'str', 'sum', 'super', 'tuple', 'type', 'vars', 'zip']\n"
     ]
    }
   ],
   "source": [
    "# Getting used to inbuilt class, objects and functions in python\n",
    "print(dir(__builtins__)) # It list all the classes and functions preinstalled with python language"
   ]
  },
  {
   "cell_type": "code",
   "execution_count": null,
   "id": "0d6d5412",
   "metadata": {},
   "outputs": [],
   "source": [
    "# Getting help on some specific functions or constructors\n",
    "# True and False are logical constants in python\n",
    "# chr,int,float are constructors used for data conversion\n",
    "# dict, list, set, tuple are constructors for creating data structures (more on it later)\n",
    "# help, input, print, map, sum, type, pow, abs, len, round are common functions you must learn how to use"
   ]
  },
  {
   "cell_type": "code",
   "execution_count": 3,
   "id": "d763926b-b513-47ce-8be5-9d2e3594996b",
   "metadata": {},
   "outputs": [
    {
     "name": "stdout",
     "output_type": "stream",
     "text": [
      "Help on built-in function abs in module builtins:\n",
      "\n",
      "abs(x, /)\n",
      "    Return the absolute value of the argument.\n",
      "\n"
     ]
    }
   ],
   "source": [
    "help(abs)\n"
   ]
  },
  {
   "cell_type": "code",
   "execution_count": 4,
   "id": "cc753e70",
   "metadata": {},
   "outputs": [
    {
     "data": {
      "text/plain": [
       "45"
      ]
     },
     "execution_count": 4,
     "metadata": {},
     "output_type": "execute_result"
    }
   ],
   "source": [
    "abs(-45)"
   ]
  },
  {
   "cell_type": "code",
   "execution_count": 5,
   "id": "bb766262",
   "metadata": {},
   "outputs": [
    {
     "name": "stdout",
     "output_type": "stream",
     "text": [
      "Help on built-in function hex in module builtins:\n",
      "\n",
      "hex(number, /)\n",
      "    Return the hexadecimal representation of an integer.\n",
      "\n",
      "    >>> hex(12648430)\n",
      "    '0xc0ffee'\n",
      "\n"
     ]
    }
   ],
   "source": [
    "help(hex)"
   ]
  },
  {
   "cell_type": "code",
   "execution_count": 6,
   "id": "2cb47194",
   "metadata": {},
   "outputs": [
    {
     "data": {
      "text/plain": [
       "'0xa'"
      ]
     },
     "execution_count": 6,
     "metadata": {},
     "output_type": "execute_result"
    }
   ],
   "source": [
    "hex(10)"
   ]
  },
  {
   "cell_type": "code",
   "execution_count": 7,
   "id": "b237baa2",
   "metadata": {},
   "outputs": [
    {
     "name": "stdout",
     "output_type": "stream",
     "text": [
      "Help on built-in function pow in module builtins:\n",
      "\n",
      "pow(base, exp, mod=None)\n",
      "    Equivalent to base**exp with 2 arguments or base**exp % mod with 3 arguments\n",
      "\n",
      "    Some types, such as ints, are able to use a more efficient algorithm when\n",
      "    invoked using the three argument form.\n",
      "\n"
     ]
    }
   ],
   "source": [
    "help(pow)"
   ]
  },
  {
   "cell_type": "code",
   "execution_count": 9,
   "id": "830d14c1",
   "metadata": {},
   "outputs": [
    {
     "data": {
      "text/plain": [
       "1000"
      ]
     },
     "execution_count": 9,
     "metadata": {},
     "output_type": "execute_result"
    }
   ],
   "source": [
    "pow(10,3)"
   ]
  },
  {
   "cell_type": "code",
   "execution_count": 10,
   "id": "cfe85a5e",
   "metadata": {
    "scrolled": true
   },
   "outputs": [
    {
     "name": "stdout",
     "output_type": "stream",
     "text": [
      "Help on built-in function sum in module builtins:\n",
      "\n",
      "sum(iterable, /, start=0)\n",
      "    Return the sum of a 'start' value (default: 0) plus an iterable of numbers\n",
      "\n",
      "    When the iterable is empty, return the start value.\n",
      "    This function is intended specifically for use with numeric values and may\n",
      "    reject non-numeric types.\n",
      "\n"
     ]
    }
   ],
   "source": [
    "help(sum)"
   ]
  },
  {
   "cell_type": "code",
   "execution_count": 11,
   "id": "b23f4ef5",
   "metadata": {},
   "outputs": [
    {
     "data": {
      "text/plain": [
       "20"
      ]
     },
     "execution_count": 11,
     "metadata": {},
     "output_type": "execute_result"
    }
   ],
   "source": [
    "sum([3,4,7,6])"
   ]
  },
  {
   "cell_type": "code",
   "execution_count": 12,
   "id": "7d64c38e",
   "metadata": {},
   "outputs": [
    {
     "name": "stdout",
     "output_type": "stream",
     "text": [
      "Help on built-in function len in module builtins:\n",
      "\n",
      "len(obj, /)\n",
      "    Return the number of items in a container.\n",
      "\n"
     ]
    }
   ],
   "source": [
    "help(len)"
   ]
  },
  {
   "cell_type": "code",
   "execution_count": 13,
   "id": "c8374d59",
   "metadata": {},
   "outputs": [
    {
     "data": {
      "text/plain": [
       "5"
      ]
     },
     "execution_count": 13,
     "metadata": {},
     "output_type": "execute_result"
    }
   ],
   "source": [
    "len('Sweet')"
   ]
  },
  {
   "cell_type": "code",
   "execution_count": 14,
   "id": "77235fba",
   "metadata": {},
   "outputs": [
    {
     "name": "stdout",
     "output_type": "stream",
     "text": [
      "Help on class list in module builtins:\n",
      "\n",
      "class list(object)\n",
      " |  list(iterable=(), /)\n",
      " |\n",
      " |  Built-in mutable sequence.\n",
      " |\n",
      " |  If no argument is given, the constructor creates a new empty list.\n",
      " |  The argument must be an iterable if specified.\n",
      " |\n",
      " |  Methods defined here:\n",
      " |\n",
      " |  __add__(self, value, /)\n",
      " |      Return self+value.\n",
      " |\n",
      " |  __contains__(self, key, /)\n",
      " |      Return bool(key in self).\n",
      " |\n",
      " |  __delitem__(self, key, /)\n",
      " |      Delete self[key].\n",
      " |\n",
      " |  __eq__(self, value, /)\n",
      " |      Return self==value.\n",
      " |\n",
      " |  __ge__(self, value, /)\n",
      " |      Return self>=value.\n",
      " |\n",
      " |  __getattribute__(self, name, /)\n",
      " |      Return getattr(self, name).\n",
      " |\n",
      " |  __getitem__(self, index, /)\n",
      " |      Return self[index].\n",
      " |\n",
      " |  __gt__(self, value, /)\n",
      " |      Return self>value.\n",
      " |\n",
      " |  __iadd__(self, value, /)\n",
      " |      Implement self+=value.\n",
      " |\n",
      " |  __imul__(self, value, /)\n",
      " |      Implement self*=value.\n",
      " |\n",
      " |  __init__(self, /, *args, **kwargs)\n",
      " |      Initialize self.  See help(type(self)) for accurate signature.\n",
      " |\n",
      " |  __iter__(self, /)\n",
      " |      Implement iter(self).\n",
      " |\n",
      " |  __le__(self, value, /)\n",
      " |      Return self<=value.\n",
      " |\n",
      " |  __len__(self, /)\n",
      " |      Return len(self).\n",
      " |\n",
      " |  __lt__(self, value, /)\n",
      " |      Return self<value.\n",
      " |\n",
      " |  __mul__(self, value, /)\n",
      " |      Return self*value.\n",
      " |\n",
      " |  __ne__(self, value, /)\n",
      " |      Return self!=value.\n",
      " |\n",
      " |  __repr__(self, /)\n",
      " |      Return repr(self).\n",
      " |\n",
      " |  __reversed__(self, /)\n",
      " |      Return a reverse iterator over the list.\n",
      " |\n",
      " |  __rmul__(self, value, /)\n",
      " |      Return value*self.\n",
      " |\n",
      " |  __setitem__(self, key, value, /)\n",
      " |      Set self[key] to value.\n",
      " |\n",
      " |  __sizeof__(self, /)\n",
      " |      Return the size of the list in memory, in bytes.\n",
      " |\n",
      " |  append(self, object, /)\n",
      " |      Append object to the end of the list.\n",
      " |\n",
      " |  clear(self, /)\n",
      " |      Remove all items from list.\n",
      " |\n",
      " |  copy(self, /)\n",
      " |      Return a shallow copy of the list.\n",
      " |\n",
      " |  count(self, value, /)\n",
      " |      Return number of occurrences of value.\n",
      " |\n",
      " |  extend(self, iterable, /)\n",
      " |      Extend list by appending elements from the iterable.\n",
      " |\n",
      " |  index(self, value, start=0, stop=9223372036854775807, /)\n",
      " |      Return first index of value.\n",
      " |\n",
      " |      Raises ValueError if the value is not present.\n",
      " |\n",
      " |  insert(self, index, object, /)\n",
      " |      Insert object before index.\n",
      " |\n",
      " |  pop(self, index=-1, /)\n",
      " |      Remove and return item at index (default last).\n",
      " |\n",
      " |      Raises IndexError if list is empty or index is out of range.\n",
      " |\n",
      " |  remove(self, value, /)\n",
      " |      Remove first occurrence of value.\n",
      " |\n",
      " |      Raises ValueError if the value is not present.\n",
      " |\n",
      " |  reverse(self, /)\n",
      " |      Reverse *IN PLACE*.\n",
      " |\n",
      " |  sort(self, /, *, key=None, reverse=False)\n",
      " |      Sort the list in ascending order and return None.\n",
      " |\n",
      " |      The sort is in-place (i.e. the list itself is modified) and stable (i.e. the\n",
      " |      order of two equal elements is maintained).\n",
      " |\n",
      " |      If a key function is given, apply it once to each list item and sort them,\n",
      " |      ascending or descending, according to their function values.\n",
      " |\n",
      " |      The reverse flag can be set to sort in descending order.\n",
      " |\n",
      " |  ----------------------------------------------------------------------\n",
      " |  Class methods defined here:\n",
      " |\n",
      " |  __class_getitem__(...) from builtins.type\n",
      " |      See PEP 585\n",
      " |\n",
      " |  ----------------------------------------------------------------------\n",
      " |  Static methods defined here:\n",
      " |\n",
      " |  __new__(*args, **kwargs) from builtins.type\n",
      " |      Create and return a new object.  See help(type) for accurate signature.\n",
      " |\n",
      " |  ----------------------------------------------------------------------\n",
      " |  Data and other attributes defined here:\n",
      " |\n",
      " |  __hash__ = None\n",
      "\n"
     ]
    }
   ],
   "source": [
    "help(list) # list a brief description of the list class and functions that are available\n",
    "# more on the list object later in the course"
   ]
  },
  {
   "cell_type": "code",
   "execution_count": 15,
   "id": "e82c4cb7",
   "metadata": {},
   "outputs": [
    {
     "name": "stdout",
     "output_type": "stream",
     "text": [
      "Help on built-in function round in module builtins:\n",
      "\n",
      "round(number, ndigits=None)\n",
      "    Round a number to a given precision in decimal digits.\n",
      "\n",
      "    The return value is an integer if ndigits is omitted or None.  Otherwise\n",
      "    the return value has the same type as the number.  ndigits may be negative.\n",
      "\n"
     ]
    }
   ],
   "source": [
    "help(round)"
   ]
  },
  {
   "cell_type": "code",
   "execution_count": 16,
   "id": "74b2ae56",
   "metadata": {},
   "outputs": [
    {
     "data": {
      "text/plain": [
       "6"
      ]
     },
     "execution_count": 16,
     "metadata": {},
     "output_type": "execute_result"
    }
   ],
   "source": [
    "round(5.789)"
   ]
  },
  {
   "cell_type": "code",
   "execution_count": 17,
   "id": "a378ce82-85d4-448a-b103-50dd4b5e5d1f",
   "metadata": {},
   "outputs": [
    {
     "data": {
      "text/plain": [
       "5.79"
      ]
     },
     "execution_count": 17,
     "metadata": {},
     "output_type": "execute_result"
    }
   ],
   "source": [
    "round(5.789,ndigits=2)"
   ]
  },
  {
   "cell_type": "code",
   "execution_count": 18,
   "id": "f3dcaa1b",
   "metadata": {},
   "outputs": [
    {
     "name": "stdout",
     "output_type": "stream",
     "text": [
      "Help on built-in function sum in module builtins:\n",
      "\n",
      "sum(iterable, /, start=0)\n",
      "    Return the sum of a 'start' value (default: 0) plus an iterable of numbers\n",
      "\n",
      "    When the iterable is empty, return the start value.\n",
      "    This function is intended specifically for use with numeric values and may\n",
      "    reject non-numeric types.\n",
      "\n"
     ]
    }
   ],
   "source": [
    "help(sum)"
   ]
  },
  {
   "cell_type": "code",
   "execution_count": 19,
   "id": "7a18e579-1a22-4c7d-a30c-5c8fa63ed267",
   "metadata": {},
   "outputs": [
    {
     "name": "stdout",
     "output_type": "stream",
     "text": [
      "16\n"
     ]
    }
   ],
   "source": [
    "sum_list = sum([5,2,0,9])\n",
    "print(sum_list)"
   ]
  },
  {
   "cell_type": "code",
   "execution_count": 20,
   "id": "d9f32a41",
   "metadata": {},
   "outputs": [
    {
     "name": "stdout",
     "output_type": "stream",
     "text": [
      "Help on built-in function max in module builtins:\n",
      "\n",
      "max(...)\n",
      "    max(iterable, *[, default=obj, key=func]) -> value\n",
      "    max(arg1, arg2, *args, *[, key=func]) -> value\n",
      "\n",
      "    With a single iterable argument, return its biggest item. The\n",
      "    default keyword-only argument specifies an object to return if\n",
      "    the provided iterable is empty.\n",
      "    With two or more arguments, return the largest argument.\n",
      "\n"
     ]
    }
   ],
   "source": [
    "help(max)"
   ]
  },
  {
   "cell_type": "code",
   "execution_count": 21,
   "id": "d85a07ad-bd1a-48e3-b49c-2ecbe223af02",
   "metadata": {},
   "outputs": [
    {
     "data": {
      "text/plain": [
       "409"
      ]
     },
     "execution_count": 21,
     "metadata": {},
     "output_type": "execute_result"
    }
   ],
   "source": [
    "nlist = [-3, 5, 0, 409, 26]\n",
    "max(nlist)"
   ]
  },
  {
   "cell_type": "code",
   "execution_count": null,
   "id": "9feb8e25",
   "metadata": {},
   "outputs": [],
   "source": [
    "help(len)"
   ]
  },
  {
   "cell_type": "code",
   "execution_count": 22,
   "id": "178b119f-c64d-4c38-9b2d-033537dd2139",
   "metadata": {},
   "outputs": [
    {
     "data": {
      "text/plain": [
       "5"
      ]
     },
     "execution_count": 22,
     "metadata": {},
     "output_type": "execute_result"
    }
   ],
   "source": [
    "len(nlist) # returns the number of elements in the nlist"
   ]
  },
  {
   "cell_type": "code",
   "execution_count": null,
   "id": "6f80faf2",
   "metadata": {},
   "outputs": [],
   "source": [
    "help(open)"
   ]
  },
  {
   "cell_type": "code",
   "execution_count": 23,
   "id": "7f60c05f",
   "metadata": {},
   "outputs": [
    {
     "name": "stdout",
     "output_type": "stream",
     "text": [
      "Help on built-in function print in module builtins:\n",
      "\n",
      "print(*args, sep=' ', end='\\n', file=None, flush=False)\n",
      "    Prints the values to a stream, or to sys.stdout by default.\n",
      "\n",
      "    sep\n",
      "      string inserted between values, default a space.\n",
      "    end\n",
      "      string appended after the last value, default a newline.\n",
      "    file\n",
      "      a file-like object (stream); defaults to the current sys.stdout.\n",
      "    flush\n",
      "      whether to forcibly flush the stream.\n",
      "\n"
     ]
    }
   ],
   "source": [
    "help(print)"
   ]
  },
  {
   "cell_type": "code",
   "execution_count": 24,
   "id": "1c760997",
   "metadata": {},
   "outputs": [
    {
     "name": "stdout",
     "output_type": "stream",
     "text": [
      "The text successfully printed to a file.\n"
     ]
    }
   ],
   "source": [
    "with open('CHM Platform.txt','w+') as my_file:\n",
    "    print('I am Feeling Great and doing well',file=my_file)\n",
    "print('The text successfully printed to a file.')"
   ]
  },
  {
   "cell_type": "code",
   "execution_count": null,
   "id": "b55e6cfe-109c-4305-9cd2-797642e0fae2",
   "metadata": {},
   "outputs": [],
   "source": [
    "# There are a lot of useful modules that you can work with in python\n",
    "print(help('modules'))"
   ]
  },
  {
   "cell_type": "code",
   "execution_count": null,
   "id": "6ffe3106",
   "metadata": {},
   "outputs": [],
   "source": [
    "# you must use the import keyword to import the modules befor you can use them\n",
    "# Common modules you must be familar with are listed below\n",
    "# datetime, calendar, statistics, math, os, csv, re"
   ]
  },
  {
   "cell_type": "code",
   "execution_count": 25,
   "id": "793ad972",
   "metadata": {},
   "outputs": [
    {
     "name": "stdout",
     "output_type": "stream",
     "text": [
      "['MAXYEAR', 'MINYEAR', 'UTC', '__all__', '__builtins__', '__cached__', '__doc__', '__file__', '__loader__', '__name__', '__package__', '__spec__', 'date', 'datetime', 'datetime_CAPI', 'time', 'timedelta', 'timezone', 'tzinfo']\n"
     ]
    }
   ],
   "source": [
    "# Analysing the datetime module and class\n",
    "import datetime # importing the datetime module\n",
    "print(dir(datetime)) # listing the functions available in the datetime class"
   ]
  },
  {
   "cell_type": "code",
   "execution_count": null,
   "id": "f9780e65",
   "metadata": {},
   "outputs": [],
   "source": [
    "help(datetime.datetime)"
   ]
  },
  {
   "cell_type": "code",
   "execution_count": 26,
   "id": "f0f2e887",
   "metadata": {},
   "outputs": [
    {
     "name": "stdout",
     "output_type": "stream",
     "text": [
      "2022-05-25 15:45:34\n"
     ]
    }
   ],
   "source": [
    "my_date = datetime.datetime(2022,5,25,15,45,34)\n",
    "print(my_date)"
   ]
  },
  {
   "cell_type": "code",
   "execution_count": 27,
   "id": "d392d606",
   "metadata": {},
   "outputs": [
    {
     "data": {
      "text/plain": [
       "25"
      ]
     },
     "execution_count": 27,
     "metadata": {},
     "output_type": "execute_result"
    }
   ],
   "source": [
    "my_date.day"
   ]
  },
  {
   "cell_type": "code",
   "execution_count": null,
   "id": "cd58dad4",
   "metadata": {},
   "outputs": [],
   "source": [
    "# Analysing the datetime module and class\n",
    "import datetime # importing the datetime module\n",
    "print(dir(datetime.datetime)) # listing the functions available in the datetime class"
   ]
  },
  {
   "cell_type": "code",
   "execution_count": null,
   "id": "d6c7ba87",
   "metadata": {},
   "outputs": [],
   "source": [
    "# Analysing the calendar class"
   ]
  },
  {
   "cell_type": "code",
   "execution_count": 28,
   "id": "477158d7-16c4-4574-b488-c0bbf7842bca",
   "metadata": {},
   "outputs": [
    {
     "name": "stdout",
     "output_type": "stream",
     "text": [
      "['APRIL', 'AUGUST', 'Calendar', 'DECEMBER', 'Day', 'EPOCH', 'FEBRUARY', 'FRIDAY', 'HTMLCalendar', 'IllegalMonthError', 'IllegalWeekdayError', 'IntEnum', 'JANUARY', 'JULY', 'JUNE', 'LocaleHTMLCalendar', 'LocaleTextCalendar', 'MARCH', 'MAY', 'MONDAY', 'Month', 'NOVEMBER', 'OCTOBER', 'SATURDAY', 'SEPTEMBER', 'SUNDAY', 'THURSDAY', 'TUESDAY', 'TextCalendar', 'WEDNESDAY', '_EPOCH_ORD', '__all__', '__builtins__', '__cached__', '__doc__', '__file__', '__getattr__', '__loader__', '__name__', '__package__', '__spec__', '_colwidth', '_get_default_locale', '_locale', '_localized_day', '_localized_month', '_monthlen', '_nextmonth', '_prevmonth', '_spacing', 'c', 'calendar', 'datetime', 'day_abbr', 'day_name', 'different_locale', 'error', 'firstweekday', 'format', 'formatstring', 'global_enum', 'isleap', 'leapdays', 'main', 'mdays', 'month', 'month_abbr', 'month_name', 'monthcalendar', 'monthrange', 'prcal', 'prmonth', 'prweek', 'repeat', 'setfirstweekday', 'sys', 'timegm', 'warnings', 'week', 'weekday', 'weekheader']\n"
     ]
    }
   ],
   "source": [
    "import calendar\n",
    "print(dir(calendar))"
   ]
  },
  {
   "cell_type": "code",
   "execution_count": 29,
   "id": "5a787aa4",
   "metadata": {},
   "outputs": [
    {
     "name": "stdout",
     "output_type": "stream",
     "text": [
      "Help on method formatmonth in module calendar:\n",
      "\n",
      "formatmonth(theyear, themonth, w=0, l=0) method of calendar.TextCalendar instance\n",
      "    Return a month's calendar string (multi-line).\n",
      "\n",
      "None\n"
     ]
    }
   ],
   "source": [
    "print(help(calendar.month))"
   ]
  },
  {
   "cell_type": "code",
   "execution_count": 30,
   "id": "6f29766b-ef70-44f3-a48a-535b593d21c5",
   "metadata": {},
   "outputs": [
    {
     "name": "stdout",
     "output_type": "stream",
     "text": [
      "   November 2023\n",
      "Mo Tu We Th Fr Sa Su\n",
      "       1  2  3  4  5\n",
      " 6  7  8  9 10 11 12\n",
      "13 14 15 16 17 18 19\n",
      "20 21 22 23 24 25 26\n",
      "27 28 29 30\n",
      "\n"
     ]
    }
   ],
   "source": [
    "cal = calendar.month(2023,11)\n",
    "\n",
    "print(cal)"
   ]
  },
  {
   "cell_type": "code",
   "execution_count": 31,
   "id": "ba437e3a",
   "metadata": {},
   "outputs": [
    {
     "name": "stdout",
     "output_type": "stream",
     "text": [
      "Help on method pryear in module calendar:\n",
      "\n",
      "pryear(theyear, w=0, l=0, c=6, m=3) method of calendar.TextCalendar instance\n",
      "    Print a year's calendar.\n",
      "\n",
      "None\n"
     ]
    }
   ],
   "source": [
    "print(help(calendar.prcal))"
   ]
  },
  {
   "cell_type": "code",
   "execution_count": 37,
   "id": "74fa27fe",
   "metadata": {},
   "outputs": [
    {
     "name": "stdout",
     "output_type": "stream",
     "text": [
      "                                  1500\n",
      "\n",
      "      January                   February                   March\n",
      "Mo Tu We Th Fr Sa Su      Mo Tu We Th Fr Sa Su      Mo Tu We Th Fr Sa Su\n",
      " 1  2  3  4  5  6  7                1  2  3  4                1  2  3  4\n",
      " 8  9 10 11 12 13 14       5  6  7  8  9 10 11       5  6  7  8  9 10 11\n",
      "15 16 17 18 19 20 21      12 13 14 15 16 17 18      12 13 14 15 16 17 18\n",
      "22 23 24 25 26 27 28      19 20 21 22 23 24 25      19 20 21 22 23 24 25\n",
      "29 30 31                  26 27 28                  26 27 28 29 30 31\n",
      "\n",
      "       April                      May                       June\n",
      "Mo Tu We Th Fr Sa Su      Mo Tu We Th Fr Sa Su      Mo Tu We Th Fr Sa Su\n",
      "                   1          1  2  3  4  5  6                   1  2  3\n",
      " 2  3  4  5  6  7  8       7  8  9 10 11 12 13       4  5  6  7  8  9 10\n",
      " 9 10 11 12 13 14 15      14 15 16 17 18 19 20      11 12 13 14 15 16 17\n",
      "16 17 18 19 20 21 22      21 22 23 24 25 26 27      18 19 20 21 22 23 24\n",
      "23 24 25 26 27 28 29      28 29 30 31               25 26 27 28 29 30\n",
      "30\n",
      "\n",
      "        July                     August                  September\n",
      "Mo Tu We Th Fr Sa Su      Mo Tu We Th Fr Sa Su      Mo Tu We Th Fr Sa Su\n",
      "                   1             1  2  3  4  5                      1  2\n",
      " 2  3  4  5  6  7  8       6  7  8  9 10 11 12       3  4  5  6  7  8  9\n",
      " 9 10 11 12 13 14 15      13 14 15 16 17 18 19      10 11 12 13 14 15 16\n",
      "16 17 18 19 20 21 22      20 21 22 23 24 25 26      17 18 19 20 21 22 23\n",
      "23 24 25 26 27 28 29      27 28 29 30 31            24 25 26 27 28 29 30\n",
      "30 31\n",
      "\n",
      "      October                   November                  December\n",
      "Mo Tu We Th Fr Sa Su      Mo Tu We Th Fr Sa Su      Mo Tu We Th Fr Sa Su\n",
      " 1  2  3  4  5  6  7                1  2  3  4                      1  2\n",
      " 8  9 10 11 12 13 14       5  6  7  8  9 10 11       3  4  5  6  7  8  9\n",
      "15 16 17 18 19 20 21      12 13 14 15 16 17 18      10 11 12 13 14 15 16\n",
      "22 23 24 25 26 27 28      19 20 21 22 23 24 25      17 18 19 20 21 22 23\n",
      "29 30 31                  26 27 28 29 30            24 25 26 27 28 29 30\n",
      "                                                    31\n"
     ]
    }
   ],
   "source": [
    "my_cal = calendar.prcal(1960)\n",
    "my_cal"
   ]
  },
  {
   "cell_type": "code",
   "execution_count": 38,
   "id": "cfa86816-66f6-4c58-84b7-2cbfb9ce0ed6",
   "metadata": {},
   "outputs": [
    {
     "data": {
      "text/plain": [
       "False"
      ]
     },
     "execution_count": 38,
     "metadata": {},
     "output_type": "execute_result"
    }
   ],
   "source": [
    "calendar.isleap(2021)"
   ]
  },
  {
   "cell_type": "code",
   "execution_count": null,
   "id": "3c5153f1",
   "metadata": {},
   "outputs": [],
   "source": [
    "import math\n",
    "print(dir(math))"
   ]
  },
  {
   "cell_type": "code",
   "execution_count": null,
   "id": "b0077cf2",
   "metadata": {},
   "outputs": [],
   "source": [
    "math.sqrt(25)"
   ]
  },
  {
   "cell_type": "code",
   "execution_count": null,
   "id": "0dc4f144",
   "metadata": {},
   "outputs": [],
   "source": [
    "help(math.floor)"
   ]
  },
  {
   "cell_type": "code",
   "execution_count": null,
   "id": "58aa86f2",
   "metadata": {},
   "outputs": [],
   "source": [
    "math.floor(9.7)"
   ]
  },
  {
   "cell_type": "code",
   "execution_count": null,
   "id": "bb9d2fbf",
   "metadata": {},
   "outputs": [],
   "source": [
    "math.ceil(9.2)"
   ]
  },
  {
   "cell_type": "code",
   "execution_count": null,
   "id": "d42e3ab3",
   "metadata": {},
   "outputs": [],
   "source": [
    "import os\n",
    "print(dir(os))"
   ]
  },
  {
   "cell_type": "code",
   "execution_count": null,
   "id": "53a8a4ab",
   "metadata": {},
   "outputs": [],
   "source": []
  },
  {
   "cell_type": "code",
   "execution_count": null,
   "id": "d1d7de76",
   "metadata": {},
   "outputs": [],
   "source": [
    "import statistics\n",
    "print(dir(statistics))"
   ]
  },
  {
   "cell_type": "code",
   "execution_count": null,
   "id": "19035b7b",
   "metadata": {},
   "outputs": [],
   "source": []
  },
  {
   "cell_type": "code",
   "execution_count": null,
   "id": "c60421f5",
   "metadata": {},
   "outputs": [],
   "source": [
    "print(help(statistics.math)) # help function list and explain a class or function"
   ]
  },
  {
   "cell_type": "code",
   "execution_count": null,
   "id": "f8890779",
   "metadata": {},
   "outputs": [],
   "source": [
    "import cmath\n",
    "print(dir(cmath))"
   ]
  },
  {
   "cell_type": "code",
   "execution_count": null,
   "id": "afed1b9e",
   "metadata": {},
   "outputs": [],
   "source": []
  },
  {
   "cell_type": "code",
   "execution_count": null,
   "id": "526ea7b8",
   "metadata": {},
   "outputs": [],
   "source": []
  },
  {
   "cell_type": "markdown",
   "id": "be3fcdd1-d690-4441-b46e-bfcdc82f4f7a",
   "metadata": {},
   "source": [
    "## Defining your own function in Python\n",
    "### Functions definition starts with the keyword- def, then follow by function name, and the inputs(tools) required to perform the task\n",
    "### Functions can sometimes return a result which can be used further\n",
    "### It is good practice to write docstrings that clarify the use of a function"
   ]
  },
  {
   "cell_type": "code",
   "execution_count": null,
   "id": "3923820a-75ae-4be7-bb28-93ee85635348",
   "metadata": {},
   "outputs": [],
   "source": [
    "# Implementing some custom-made functions in Python"
   ]
  },
  {
   "cell_type": "code",
   "execution_count": 39,
   "id": "f2b5e38c-6ee3-43fc-bc18-252f56bcb1de",
   "metadata": {},
   "outputs": [
    {
     "name": "stdin",
     "output_type": "stream",
     "text": [
      "What is the first number?: 20\n",
      "What is the second number?: 30\n"
     ]
    },
    {
     "name": "stdout",
     "output_type": "stream",
     "text": [
      "The sum of 20 + 30 is: 50\n"
     ]
    }
   ],
   "source": [
    "# 1. Functions to add two numbers in Python\n",
    "def addition(num1,num2): # num1 and num2 are arguments or input\n",
    "    \"\"\"This function adds two integers and return the result\"\"\" # this is a docstring\n",
    "    num1 = int(num1)\n",
    "    num2 = int(num2)\n",
    "    the_sum = num1 + num2\n",
    "    return the_sum\n",
    "\n",
    "# Calling the addition function to add any two numbers\n",
    "val1 = input(\"What is the first number?:\")\n",
    "val2 = input(\"What is the second number?:\")\n",
    "\n",
    "my_sum = addition(val1,val2)\n",
    "\n",
    "print(\"The sum of \"+ val1 + \" + \" + val2 + \" is: \"+ str(my_sum)) "
   ]
  },
  {
   "cell_type": "code",
   "execution_count": 40,
   "id": "e6f986e9-ed7d-463a-82dc-a282cd1428be",
   "metadata": {},
   "outputs": [
    {
     "name": "stdout",
     "output_type": "stream",
     "text": [
      "Help on function addition in module __main__:\n",
      "\n",
      "addition(num1, num2)\n",
      "    This function adds two integers and return the result\n",
      "\n"
     ]
    }
   ],
   "source": [
    "help(addition)"
   ]
  },
  {
   "cell_type": "code",
   "execution_count": 41,
   "id": "3f184472-61f0-4882-bec4-e82557ed77cd",
   "metadata": {},
   "outputs": [
    {
     "data": {
      "text/plain": [
       "260"
      ]
     },
     "execution_count": 41,
     "metadata": {},
     "output_type": "execute_result"
    }
   ],
   "source": [
    "addition(230,30)"
   ]
  },
  {
   "cell_type": "code",
   "execution_count": 42,
   "id": "cce93067-081e-4555-9c07-b4e2ab54d858",
   "metadata": {},
   "outputs": [
    {
     "name": "stdout",
     "output_type": "stream",
     "text": [
      "The sum is: 75\n"
     ]
    }
   ],
   "source": [
    "val1 = [45, 30]\n",
    "my_sum = sum(val1)\n",
    "print(\"The sum is: \"+ str(my_sum)) "
   ]
  },
  {
   "cell_type": "code",
   "execution_count": 44,
   "id": "5df70bec",
   "metadata": {},
   "outputs": [
    {
     "data": {
      "text/plain": [
       "75"
      ]
     },
     "execution_count": 44,
     "metadata": {},
     "output_type": "execute_result"
    }
   ],
   "source": [
    "addition(45,30)"
   ]
  },
  {
   "cell_type": "code",
   "execution_count": 48,
   "id": "dde49a86-2122-46fe-a8f0-4bfc70492a1c",
   "metadata": {},
   "outputs": [
    {
     "name": "stdin",
     "output_type": "stream",
     "text": [
      "What is the first number?: 100\n",
      "What is the second number(it must not be zero)?: 50\n"
     ]
    },
    {
     "name": "stdout",
     "output_type": "stream",
     "text": [
      "The value of 100 / 50 is: 2.0\n"
     ]
    }
   ],
   "source": [
    "# 2. Functions to divide two numbers in Python\n",
    "def division(num1:int, num2:int):\n",
    "    \"\"\"This function performs num1 / num2 and return the result\"\"\"\n",
    "    num1 = int(num1)\n",
    "    num2 = int(num2)\n",
    "    the_division = num1 / num2\n",
    "    return the_division\n",
    "\n",
    "# Calling the addition function to add any two numbers\n",
    "val1 = input(\"What is the first number?:\")\n",
    "val2 = input(\"What is the second number(it must not be zero)?:\")\n",
    "\n",
    "my_division = division(val1,val2)\n",
    "\n",
    "print(\"The value of \"+ val1 + \" / \" + val2 + \" is: \"+ str(my_division)) "
   ]
  },
  {
   "cell_type": "code",
   "execution_count": 46,
   "id": "d195b00f-2c85-4995-8500-d0a95774fa20",
   "metadata": {},
   "outputs": [
    {
     "data": {
      "text/plain": [
       "25.0"
      ]
     },
     "execution_count": 46,
     "metadata": {},
     "output_type": "execute_result"
    }
   ],
   "source": [
    "division(100,4)"
   ]
  },
  {
   "cell_type": "code",
   "execution_count": 49,
   "id": "5441f2dc",
   "metadata": {},
   "outputs": [
    {
     "name": "stdout",
     "output_type": "stream",
     "text": [
      "Help on function division in module __main__:\n",
      "\n",
      "division(num1: int, num2: int)\n",
      "    This function performs num1 / num2 and return the result\n",
      "\n"
     ]
    }
   ],
   "source": [
    "help(division)"
   ]
  },
  {
   "cell_type": "code",
   "execution_count": null,
   "id": "e900d4fc-e822-450b-a578-c13b93734b38",
   "metadata": {},
   "outputs": [],
   "source": [
    "### Classwork"
   ]
  },
  {
   "cell_type": "code",
   "execution_count": null,
   "id": "96beafa4-5b8a-400e-a751-f98e12732ea6",
   "metadata": {},
   "outputs": [],
   "source": [
    "#1 Write a function to substract a number from another number"
   ]
  },
  {
   "cell_type": "code",
   "execution_count": null,
   "id": "89da9129-e220-4d60-9b71-81782b0d031c",
   "metadata": {},
   "outputs": [],
   "source": [
    "def substraction(num1:float, num2:float):\n",
    "    num1 = int(num1)\n",
    "    num2 = int(num2)\n",
    "    the_result = num1 - num2\n",
    "    return the_result\n",
    "\n",
    "val1 = input(\"What is the first number?:\")\n",
    "val2 = input(\"What is the second number?:\")\n",
    "\n",
    "my_result = substraction(val1,val2)\n",
    "\n",
    "print(\"The value of \"+ val1 + \" - \" + val2 + \" is: \"+ str(my_result)) "
   ]
  },
  {
   "cell_type": "code",
   "execution_count": null,
   "id": "62a66805-3c42-4d3e-adbd-0fe516bbb4cb",
   "metadata": {},
   "outputs": [],
   "source": [
    "#. Write a function to multiply three numbers"
   ]
  },
  {
   "cell_type": "code",
   "execution_count": null,
   "id": "24fdade7-41fe-41a1-9d65-94a29f1f4ca3",
   "metadata": {},
   "outputs": [],
   "source": [
    "def multiplication(num1,num2,num3):\n",
    "    num1 = int(num1)\n",
    "    num2 = int(num2)\n",
    "    num3 = int(num3)\n",
    "    \n",
    "    the_result = num1 * num2 * num3\n",
    "    \n",
    "    return the_result\n",
    "\n",
    "val1 = input(\"What is the first number?:\")\n",
    "val2 = input(\"What is the second number?:\")\n",
    "val3 = input(\"What is the third number:?\")\n",
    "\n",
    "my_result = multiplication(val1,val2,val3)\n",
    "\n",
    "print(\"The value of \"+ val1 + \" x \" + val2 + \"  x \" + val3 + \"is: \"+ str(my_result)) "
   ]
  },
  {
   "cell_type": "code",
   "execution_count": null,
   "id": "4ee2bc5c-f22f-4736-a76d-3ebba12c4202",
   "metadata": {},
   "outputs": [],
   "source": [
    "# You can link two functions to achieve a goal"
   ]
  },
  {
   "cell_type": "code",
   "execution_count": 50,
   "id": "b39b8f4b-6bd5-4af5-a9c0-c586d9bb4412",
   "metadata": {},
   "outputs": [
    {
     "name": "stdin",
     "output_type": "stream",
     "text": [
      "What is the length?: 20\n",
      "What is the breadth?: 6\n"
     ]
    },
    {
     "name": "stdout",
     "output_type": "stream",
     "text": [
      "The Area of Rectangle of  length: 20 and breadth: 6  is: 120\n"
     ]
    }
   ],
   "source": [
    "# Writing two functions to calculate the area of a Rectangle\n",
    "\n",
    "def accept_inputs():\n",
    "    \"\"\" The function collects the length (L) and breadth (B)  of a rectangle and return the those two parameters\"\"\"\n",
    "    L = input(\"What is the length?:\")\n",
    "    B = input(\"What is the breadth?:\")\n",
    "    return L, B\n",
    "\n",
    "def area_rectangle(L,B): # L and B are required or default arguments\n",
    "    \"\"\" The function calculate the area of rectangle with length L and breadth B and return the result\"\"\"\n",
    "    L = int(L)\n",
    "    B = int(B)\n",
    "    the_area = L * B\n",
    "    return the_area \n",
    "\n",
    "# Calling the two functions\n",
    "length, breadth = accept_inputs()\n",
    "my_area = area_rectangle(length, breadth)\n",
    "\n",
    "print(f\"The Area of Rectangle of  length: {length} and breadth: {breadth}  is: {my_area}\")"
   ]
  },
  {
   "cell_type": "code",
   "execution_count": 51,
   "id": "b4bbb0da",
   "metadata": {},
   "outputs": [
    {
     "name": "stdout",
     "output_type": "stream",
     "text": [
      "Help on function area_rectangle in module __main__:\n",
      "\n",
      "area_rectangle(L, B)\n",
      "    The function calculate the area of rectangle with length L and breadth B and return the result\n",
      "\n"
     ]
    }
   ],
   "source": [
    "help(area_rectangle)"
   ]
  },
  {
   "cell_type": "code",
   "execution_count": null,
   "id": "b9fb131b-0479-440e-aff1-7cd41fd453cb",
   "metadata": {},
   "outputs": [],
   "source": [
    "# Introduction keywords or default arguments"
   ]
  },
  {
   "cell_type": "code",
   "execution_count": 52,
   "id": "e72057b6-ff3e-4f89-b7b9-b09b1c35cc79",
   "metadata": {},
   "outputs": [],
   "source": [
    "# Writing two functions to convert feet/inches to centimeters\n",
    "\n",
    "def to_cm(feet:float = 0, inches:float = 0): # feet and inches are keywords argument\n",
    "    \"\"\" The function calculate length from feet and inches to centimetres\"\"\"\n",
    "    inch_to_cm = inches * 2.54\n",
    "    ft_to_cm = feet * 12 * 2.54\n",
    "    cm_value = inch_to_cm + ft_to_cm\n",
    "    \n",
    "    return cm_value"
   ]
  },
  {
   "cell_type": "code",
   "execution_count": 53,
   "id": "650dffbe",
   "metadata": {},
   "outputs": [
    {
     "name": "stdout",
     "output_type": "stream",
     "text": [
      "Help on function to_cm in module __main__:\n",
      "\n",
      "to_cm(feet: float = 0, inches: float = 0)\n",
      "    The function calculate length from feet and inches to centimetres\n",
      "\n"
     ]
    }
   ],
   "source": [
    "help(to_cm)"
   ]
  },
  {
   "cell_type": "code",
   "execution_count": 54,
   "id": "e1bcb138",
   "metadata": {},
   "outputs": [
    {
     "data": {
      "text/plain": [
       "152.4"
      ]
     },
     "execution_count": 54,
     "metadata": {},
     "output_type": "execute_result"
    }
   ],
   "source": [
    "to_cm(feet = 5)"
   ]
  },
  {
   "cell_type": "code",
   "execution_count": 55,
   "id": "8c96cbad",
   "metadata": {},
   "outputs": [
    {
     "data": {
      "text/plain": [
       "127.0"
      ]
     },
     "execution_count": 55,
     "metadata": {},
     "output_type": "execute_result"
    }
   ],
   "source": [
    "to_cm(inches = 50)"
   ]
  },
  {
   "cell_type": "code",
   "execution_count": 56,
   "id": "fc192e3b",
   "metadata": {},
   "outputs": [
    {
     "data": {
      "text/plain": [
       "347.98"
      ]
     },
     "execution_count": 56,
     "metadata": {},
     "output_type": "execute_result"
    }
   ],
   "source": [
    "to_cm(feet = 10, inches = 17)"
   ]
  },
  {
   "cell_type": "code",
   "execution_count": 57,
   "id": "8a3fd1de",
   "metadata": {},
   "outputs": [
    {
     "data": {
      "text/plain": [
       "347.98"
      ]
     },
     "execution_count": 57,
     "metadata": {},
     "output_type": "execute_result"
    }
   ],
   "source": [
    "to_cm(inches = 17, feet = 10)"
   ]
  },
  {
   "cell_type": "code",
   "execution_count": 62,
   "id": "83c19770",
   "metadata": {},
   "outputs": [
    {
     "data": {
      "text/plain": [
       "0.0"
      ]
     },
     "execution_count": 62,
     "metadata": {},
     "output_type": "execute_result"
    }
   ],
   "source": [
    "to_cm()"
   ]
  },
  {
   "cell_type": "code",
   "execution_count": null,
   "id": "0ff0c667",
   "metadata": {},
   "outputs": [],
   "source": [
    "# You can combine required arguments and keywords arguments in the same function\n",
    "# But the required arguments must come first"
   ]
  },
  {
   "cell_type": "code",
   "execution_count": 58,
   "id": "98125c30",
   "metadata": {},
   "outputs": [
    {
     "ename": "SyntaxError",
     "evalue": "parameter without a default follows parameter with a default (2906427577.py, line 2)",
     "output_type": "error",
     "traceback": [
      "\u001b[1;36m  Cell \u001b[1;32mIn[58], line 2\u001b[1;36m\u001b[0m\n\u001b[1;33m    def cal_area(base:int=2, height):\u001b[0m\n\u001b[1;37m                             ^\u001b[0m\n\u001b[1;31mSyntaxError\u001b[0m\u001b[1;31m:\u001b[0m parameter without a default follows parameter with a default\n"
     ]
    }
   ],
   "source": [
    "# this function will throw an error\n",
    "def cal_area(base:int=2, height):\n",
    "    area = 0.5 * base * heigth\n",
    "    return area"
   ]
  },
  {
   "cell_type": "code",
   "execution_count": 59,
   "id": "cc9b0b8c",
   "metadata": {},
   "outputs": [],
   "source": [
    "# this function will work well\n",
    "def cal_area(height, base:int=3):\n",
    "    area = 0.5 * base * height\n",
    "    return area"
   ]
  },
  {
   "cell_type": "code",
   "execution_count": 71,
   "id": "5174405b-2314-4a6a-9099-850790c02b44",
   "metadata": {},
   "outputs": [
    {
     "data": {
      "text/plain": [
       "135.0"
      ]
     },
     "execution_count": 71,
     "metadata": {},
     "output_type": "execute_result"
    }
   ],
   "source": [
    "cal_area(45,6)"
   ]
  },
  {
   "cell_type": "code",
   "execution_count": 60,
   "id": "18712af7",
   "metadata": {},
   "outputs": [
    {
     "data": {
      "text/plain": [
       "15.0"
      ]
     },
     "execution_count": 60,
     "metadata": {},
     "output_type": "execute_result"
    }
   ],
   "source": [
    "cal_area(10) # it will return 15"
   ]
  },
  {
   "cell_type": "code",
   "execution_count": 61,
   "id": "b9c71de9",
   "metadata": {},
   "outputs": [
    {
     "data": {
      "text/plain": [
       "30.0"
      ]
     },
     "execution_count": 61,
     "metadata": {},
     "output_type": "execute_result"
    }
   ],
   "source": [
    "# required arguments are known by their position.\n",
    "cal_area(12, base = 5) # it will return 30"
   ]
  },
  {
   "cell_type": "code",
   "execution_count": null,
   "id": "34b6db4c",
   "metadata": {},
   "outputs": [],
   "source": []
  },
  {
   "cell_type": "code",
   "execution_count": 64,
   "id": "a76839bc",
   "metadata": {},
   "outputs": [],
   "source": [
    "def perimeter_rectangle(L:int, B:int):\n",
    "    \"\"\"This function accepts L and B, and calculates the perimeter of a rectangle\"\"\"\n",
    "    rect_perimeter = 2*(L+B)\n",
    "    return rect_perimeter"
   ]
  },
  {
   "cell_type": "code",
   "execution_count": 65,
   "id": "c29133df",
   "metadata": {},
   "outputs": [
    {
     "ename": "TypeError",
     "evalue": "perimeter_rectangle() missing 2 required positional arguments: 'L' and 'B'",
     "output_type": "error",
     "traceback": [
      "\u001b[1;31m---------------------------------------------------------------------------\u001b[0m",
      "\u001b[1;31mTypeError\u001b[0m                                 Traceback (most recent call last)",
      "Cell \u001b[1;32mIn[65], line 1\u001b[0m\n\u001b[1;32m----> 1\u001b[0m \u001b[43mperimeter_rectangle\u001b[49m\u001b[43m(\u001b[49m\u001b[43m)\u001b[49m\n",
      "\u001b[1;31mTypeError\u001b[0m: perimeter_rectangle() missing 2 required positional arguments: 'L' and 'B'"
     ]
    }
   ],
   "source": [
    "perimeter_rectangle()"
   ]
  },
  {
   "cell_type": "code",
   "execution_count": null,
   "id": "151aa938-6d4f-4501-bd48-ad531c67f55c",
   "metadata": {},
   "outputs": [],
   "source": [
    "# Getting help about a function\n",
    "# You will need to type help follow by the function name in a bracket"
   ]
  },
  {
   "cell_type": "code",
   "execution_count": null,
   "id": "f3d89374-3cfb-4767-9c8e-0196cae91eaa",
   "metadata": {},
   "outputs": [],
   "source": [
    "# Example\n",
    "help(perimeter_rectangle)"
   ]
  },
  {
   "cell_type": "code",
   "execution_count": null,
   "id": "29647de0-87d8-45b5-a8ef-4019d7aeb259",
   "metadata": {},
   "outputs": [],
   "source": []
  },
  {
   "attachments": {
    "0e42ebde-5a06-4fc8-8c3e-48403298607a.png": {
     "image/png": "[encoded data removed]"
    }
   },
   "cell_type": "markdown",
   "id": "ae11eb9a-766c-4558-ac40-92676fe0d2cb",
   "metadata": {},
   "source": [
    "![quad.png](attachment:0e42ebde-5a06-4fc8-8c3e-48403298607a.png)"
   ]
  },
  {
   "cell_type": "code",
   "execution_count": null,
   "id": "313ed7a0-c81c-471a-a2a2-390f5833091d",
   "metadata": {},
   "outputs": [],
   "source": []
  },
  {
   "cell_type": "code",
   "execution_count": null,
   "id": "f603aa91-4dd2-4d70-969d-0c43a7776762",
   "metadata": {},
   "outputs": [],
   "source": []
  },
  {
   "cell_type": "code",
   "execution_count": null,
   "id": "f99964d8-21ca-467b-8169-73dfa607a0cb",
   "metadata": {},
   "outputs": [],
   "source": [
    "#Class work\n",
    "# Write three functions to create the solution of a quadratic equation\n",
    "# ax^2 + bx + c = 0\n",
    "# Hint: Create a function to accept a,b,c and another function to calculate x1, x2 and \n",
    "# then another function to print x1 and x2.\n"
   ]
  },
  {
   "cell_type": "code",
   "execution_count": null,
   "id": "0c25eb44-e95d-487e-b18d-fe0920c8a514",
   "metadata": {},
   "outputs": [],
   "source": []
  },
  {
   "cell_type": "markdown",
   "id": "9989136c-7ed1-4322-9591-ca490d6a2f58",
   "metadata": {},
   "source": [
    "## Assignment"
   ]
  },
  {
   "cell_type": "code",
   "execution_count": null,
   "id": "00dbb74f-a4e1-4819-92b9-67f0b64d902f",
   "metadata": {},
   "outputs": [],
   "source": [
    "#1. Write two functions to calculate the Area of a Triangle (hint: you will need to input the base (b) and height (h))"
   ]
  },
  {
   "cell_type": "code",
   "execution_count": null,
   "id": "44ed2f3e-c3ac-4ca2-9dce-4253e8467348",
   "metadata": {},
   "outputs": [],
   "source": []
  },
  {
   "cell_type": "code",
   "execution_count": null,
   "id": "d1a0b186-46d5-4a56-a603-9b02e4226add",
   "metadata": {},
   "outputs": [],
   "source": [
    "#2. Write two functions to calculate the Area of a Circle (hint: you will need to input only the radius (r))"
   ]
  },
  {
   "cell_type": "code",
   "execution_count": null,
   "id": "6714a1bb-196c-41d3-b3f7-a44addc29ac9",
   "metadata": {},
   "outputs": [],
   "source": []
  },
  {
   "cell_type": "code",
   "execution_count": null,
   "id": "a136b844-2d71-4ce5-8874-6fb17d206246",
   "metadata": {},
   "outputs": [],
   "source": [
    "#3. Writing a custom function to add any range of numbers using for loop"
   ]
  },
  {
   "cell_type": "code",
   "execution_count": null,
   "id": "f4f131be-f550-41e8-bb31-b98bbc9893ca",
   "metadata": {},
   "outputs": [],
   "source": []
  }
 ],
 "metadata": {
  "kernelspec": {
   "display_name": "Python 3 (ipykernel)",
   "language": "python",
   "name": "python3"
  },
  "language_info": {
   "codemirror_mode": {
    "name": "ipython",
    "version": 3
   },
   "file_extension": ".py",
   "mimetype": "text/x-python",
   "name": "python",
   "nbconvert_exporter": "python",
   "pygments_lexer": "ipython3",
   "version": "3.12.0"
  }
 },
 "nbformat": 4,
 "nbformat_minor": 5
}
