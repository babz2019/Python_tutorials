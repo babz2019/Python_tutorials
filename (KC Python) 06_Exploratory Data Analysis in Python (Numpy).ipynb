{
 "cells": [
  {
   "cell_type": "code",
   "execution_count": null,
   "id": "5056ff2c",
   "metadata": {},
   "outputs": [],
   "source": []
  },
  {
   "cell_type": "code",
   "execution_count": null,
   "id": "7787ab16",
   "metadata": {},
   "outputs": [],
   "source": [
    "import warnings\n",
    "warnings.simplefilter(\"ignore\")"
   ]
  },
  {
   "cell_type": "code",
   "execution_count": null,
   "id": "ba907afc",
   "metadata": {},
   "outputs": [],
   "source": [
    "# Clears all variable values previously set\n",
    "from IPython import get_ipython\n",
    "get_ipython().magic('reset -sf')"
   ]
  },
  {
   "cell_type": "code",
   "execution_count": 1,
   "id": "a500c4f9",
   "metadata": {},
   "outputs": [],
   "source": [
    "# Importing the Numpy modules\n",
    "import numpy as np"
   ]
  },
  {
   "cell_type": "code",
   "execution_count": null,
   "id": "fd2f9dfb",
   "metadata": {},
   "outputs": [],
   "source": [
    "# Make a list of primes\n",
    "primes_list = [2,3,5,7,9,13]\n",
    "primes_list\n"
   ]
  },
  {
   "cell_type": "code",
   "execution_count": null,
   "id": "fac9bd7e",
   "metadata": {},
   "outputs": [],
   "source": [
    "# Make an Numpy array of primes\n",
    "pl1 = [2,3,5,7,9,13]\n",
    "np_primes_array = np.array(pl1)\n",
    "np_primes_array\n"
   ]
  },
  {
   "cell_type": "code",
   "execution_count": null,
   "id": "700185be",
   "metadata": {},
   "outputs": [],
   "source": [
    "# Indexing and creating sublist works the same\n",
    "print(f'primes_list[2] is: {primes_list[2]}')\n",
    "print(f'np_primes_array[2] is: {np_primes_array[2]}')"
   ]
  },
  {
   "cell_type": "code",
   "execution_count": null,
   "id": "44fc5c13",
   "metadata": {},
   "outputs": [],
   "source": [
    "# Indexing and creating sublist works the same\n",
    "print(f'primes_list[:3] is: {primes_list[:3]}')\n",
    "print(f'np_primes_array[:3] is: {np_primes_array[:3]}')"
   ]
  },
  {
   "cell_type": "code",
   "execution_count": null,
   "id": "8a37d91d",
   "metadata": {},
   "outputs": [],
   "source": [
    "# But arithmetic operations differs\n",
    "print(f'primes_list[:4] *2 is: {primes_list[:4]*2}\\n')\n",
    "print(f'np_primes_array[:4]*2 is: {np_primes_array[:4]*2}\\n')"
   ]
  },
  {
   "cell_type": "code",
   "execution_count": null,
   "id": "ad4b13ea",
   "metadata": {},
   "outputs": [],
   "source": [
    "print(f'primes_list[:3] + primes_list[3:] is: {primes_list[:3]+primes_list[3:]}\\n')\n",
    "print(f'np_primes_array[:3] + np_primes_array[3:] is: {np_primes_array[:3]+np_primes_array[3:]}\\n')"
   ]
  },
  {
   "cell_type": "code",
   "execution_count": null,
   "id": "45a9c746",
   "metadata": {},
   "outputs": [],
   "source": [
    "## List attributes\n",
    "list_attributes = [x  for x in (dir(primes_list)) if x[0] != '_' ]\n",
    "print(list_attributes)"
   ]
  },
  {
   "cell_type": "code",
   "execution_count": null,
   "id": "43e29167",
   "metadata": {},
   "outputs": [],
   "source": [
    "## Numpy Array attributes\n",
    "numpy_attributes = [x  for x in (dir(np_primes_array)) if x[0] != '_' ]\n",
    "print(numpy_attributes)"
   ]
  },
  {
   "cell_type": "code",
   "execution_count": null,
   "id": "c6a28e4d",
   "metadata": {},
   "outputs": [],
   "source": []
  },
  {
   "cell_type": "markdown",
   "id": "84413367",
   "metadata": {},
   "source": [
    "### Numpy Array Attributes\n",
    "Get size (number of items), shape (dimensions), itemsize(bytes of memory for each item), and dtype (numpy data type).  \n",
    "See how many bytes of memory space the whole array uses from the product of size and itemsize. See [complete list of attributes and methods](https://docs.scipy.org/doc/numpy/reference/generated/numpy.ndarray.html)."
   ]
  },
  {
   "cell_type": "code",
   "execution_count": null,
   "id": "76af2b72",
   "metadata": {},
   "outputs": [],
   "source": []
  },
  {
   "cell_type": "markdown",
   "id": "bf8642c8",
   "metadata": {},
   "source": [
    "### Indexing and Slicing\n",
    "Use square brackets to get any item of an array by index. Multi-dimensional arrays can use multiple square brackets.\n",
    "\n",
    "There are three arguments for slicing arrays, all are optional: [start:stop:step].  \n",
    "    If start is left blank it defaults to 0. If stop is left blank it defaults to the end of the array. Step defaults to 1."
   ]
  },
  {
   "cell_type": "code",
   "execution_count": null,
   "id": "9d92f85e",
   "metadata": {},
   "outputs": [],
   "source": [
    "my_array = np.array([[1,3,5,4],[7,9,11,2],[10,6,0,13]]) # Creating 3 by 4 dimensional arrays\n",
    "print(my_array)"
   ]
  },
  {
   "cell_type": "code",
   "execution_count": null,
   "id": "5a6380e7",
   "metadata": {},
   "outputs": [],
   "source": []
  },
  {
   "cell_type": "code",
   "execution_count": null,
   "id": "1d0c63e6",
   "metadata": {},
   "outputs": [],
   "source": [
    "print(f'The size of my_array is: {my_array.size}')\n",
    "print(f'The ndim of my_array is: {my_array.ndim}') # 2-dimension\n",
    "print(f'The itemsize of my_array is: {my_array.itemsize}') # returns the size of one array element\n",
    "print(f'The dtype of my_array is: {my_array.dtype}')\n",
    "print(f'The nbytes of my_array is: {my_array.nbytes}') # same as my_array.size * my_array.itemsize\n"
   ]
  },
  {
   "cell_type": "code",
   "execution_count": null,
   "id": "0de718b3",
   "metadata": {},
   "outputs": [],
   "source": [
    "my_array"
   ]
  },
  {
   "cell_type": "code",
   "execution_count": null,
   "id": "227e1d65",
   "metadata": {},
   "outputs": [],
   "source": [
    "# Slicing\n",
    "# The basic rule for 2-d array is [row,column]\n",
    "\n",
    "print('The value of my_array[1] is:',my_array[1]) # row 1\n",
    "print('The value of my_array[0][2] is:',my_array[0][2]) # row 0 and column 2\n",
    "print('The value of my_array[1:3] is:',my_array[1:3]) # row 1 to row (3-1)=2\n",
    "print('The value of my_array[:1] is:', my_array[:1]) # All element in row 1(0)\n",
    "print('The value of my_array[0:3:2] is:',my_array[0:3:2]) # Elements in row 0 to (3-1)=2 step 2 which is row 0,2\n",
    "print('The value of my_array[:,1:2] is:',my_array[:,1:2])  # all the rows on columns 1 to (2-1)=1"
   ]
  },
  {
   "cell_type": "code",
   "execution_count": null,
   "id": "6ee12fd3",
   "metadata": {},
   "outputs": [],
   "source": [
    "my_array"
   ]
  },
  {
   "cell_type": "code",
   "execution_count": null,
   "id": "ea3c7097",
   "metadata": {},
   "outputs": [],
   "source": [
    "my_array[:,1:2]   # 2-Dim (x,y) :, all the rows, 1:2 column 1 to 2-1=1"
   ]
  },
  {
   "cell_type": "code",
   "execution_count": null,
   "id": "ae2622d3",
   "metadata": {},
   "outputs": [],
   "source": [
    "my_array[1:2] # row 1 to row 2-1"
   ]
  },
  {
   "cell_type": "code",
   "execution_count": null,
   "id": "fba48a0a",
   "metadata": {},
   "outputs": [],
   "source": [
    "my_array[1:2,1:4] # [1:1 row, 1 to 2 column]"
   ]
  },
  {
   "cell_type": "code",
   "execution_count": null,
   "id": "27ad0816",
   "metadata": {},
   "outputs": [],
   "source": [
    "my_array[1:2,0:1] # 1,0"
   ]
  },
  {
   "cell_type": "code",
   "execution_count": null,
   "id": "84badd30",
   "metadata": {},
   "outputs": [],
   "source": [
    "my_array[2:3,1:2]"
   ]
  },
  {
   "cell_type": "code",
   "execution_count": null,
   "id": "096d5636",
   "metadata": {},
   "outputs": [],
   "source": [
    "my_array[1:3,1:3]"
   ]
  },
  {
   "cell_type": "code",
   "execution_count": null,
   "id": "a12fd9ef",
   "metadata": {},
   "outputs": [],
   "source": []
  },
  {
   "cell_type": "code",
   "execution_count": null,
   "id": "284c59f4",
   "metadata": {},
   "outputs": [],
   "source": [
    "my_array[1:,2:]  (x,y)"
   ]
  },
  {
   "cell_type": "markdown",
   "id": "a97ca284",
   "metadata": {},
   "source": [
    "## Numpy Crash Course"
   ]
  },
  {
   "cell_type": "markdown",
   "id": "5a8341d2",
   "metadata": {},
   "source": [
    "NumPy is an amazing scientific computing library that is used by numerous other Python Data Science libraries. It contains many mathematical, array and string functions that are extremely useful. Along with all the basic math functions you'll also find them for Linear Algebra, Statistics, Simulation, etc.\n",
    "\n",
    "NumPy utilizes vector (1D Arrays) and matrice arrays (2D Arrays)."
   ]
  },
  {
   "cell_type": "markdown",
   "id": "6c720326",
   "metadata": {},
   "source": [
    "## Create Array in Range"
   ]
  },
  {
   "cell_type": "code",
   "execution_count": null,
   "id": "40f9587d",
   "metadata": {},
   "outputs": [],
   "source": [
    "# Creates array from 0 to 4\n",
    "npa2 = np.arange(0,5)\n",
    "npa2"
   ]
  },
  {
   "cell_type": "code",
   "execution_count": null,
   "id": "00a4c0ae",
   "metadata": {},
   "outputs": [],
   "source": [
    "# Define a step\n",
    "npa3 = np.arange(0,10,2)\n",
    "npa3"
   ]
  },
  {
   "cell_type": "markdown",
   "id": "2b55933d",
   "metadata": {},
   "source": [
    "## Matrices"
   ]
  },
  {
   "cell_type": "code",
   "execution_count": null,
   "id": "68d73bf1",
   "metadata": {},
   "outputs": [],
   "source": [
    "# Create a 4 row matrix with 3 columns with all having a value of 1\n",
    "mat1 = np.ones((4,3))\n",
    "mat1"
   ]
  },
  {
   "cell_type": "code",
   "execution_count": null,
   "id": "2ec6eca9",
   "metadata": {},
   "outputs": [],
   "source": [
    "# Create a 3 row matrix with 4 columns with all having a value of 0\n",
    "mat2 = np.zeros((3,4))\n",
    "mat2"
   ]
  },
  {
   "cell_type": "markdown",
   "id": "6ea07215",
   "metadata": {},
   "source": [
    "## Random Matrices"
   ]
  },
  {
   "cell_type": "code",
   "execution_count": null,
   "id": "1e7a6e58",
   "metadata": {},
   "outputs": [],
   "source": [
    "# Random values between 0 and 50 as a matrix with 4 rows & 3 columns\n",
    "mat3 = np.random.randint(0,50,(4,3))\n",
    "mat3"
   ]
  },
  {
   "cell_type": "markdown",
   "id": "67c801b4",
   "metadata": {},
   "source": [
    "## Generate Defined Number of Values in Range"
   ]
  },
  {
   "cell_type": "code",
   "execution_count": null,
   "id": "bf5922fa",
   "metadata": {},
   "outputs": [],
   "source": [
    "# Generate 10 equally distanced values between 1 and 10\n",
    "mat4 = np.linspace(1,10,10)\n",
    "mat4"
   ]
  },
  {
   "cell_type": "markdown",
   "id": "ec0711b3",
   "metadata": {},
   "source": [
    "## Reshape Arrays"
   ]
  },
  {
   "cell_type": "code",
   "execution_count": null,
   "id": "0748b589",
   "metadata": {},
   "outputs": [],
   "source": [
    "# Create array with 18 values\n",
    "mat6 = np.random.randint(0,50,18) # (start, stop, no_of_elements)\n",
    "mat6"
   ]
  },
  {
   "cell_type": "code",
   "execution_count": null,
   "id": "ed9a3f5a",
   "metadata": {},
   "outputs": [],
   "source": [
    "# Reshape to a 3 row 6 column array\n",
    "mat6 = mat6.reshape(3,6)\n",
    "mat6"
   ]
  },
  {
   "cell_type": "code",
   "execution_count": null,
   "id": "0371e568",
   "metadata": {},
   "outputs": [],
   "source": [
    "# Reshape into a 3D array with 2 blocks, 3 rows, 3 columns\n",
    "mat7 = mat6.reshape(2,3,3) # (2blocks, 3rows, 3columns)\n",
    "mat7"
   ]
  },
  {
   "cell_type": "code",
   "execution_count": null,
   "id": "7f6b3988",
   "metadata": {},
   "outputs": [],
   "source": [
    "# Reshape into a 3D array with 2 blocks, 3 rows, 2 columns\n",
    "mat8 = mat6.reshape(3,3,2) # (3blocks, 3rows, 2columns)\n",
    "mat8"
   ]
  },
  {
   "cell_type": "code",
   "execution_count": null,
   "id": "ff74e804",
   "metadata": {},
   "outputs": [],
   "source": []
  },
  {
   "cell_type": "markdown",
   "id": "179145f8",
   "metadata": {},
   "source": [
    "### Advanced Indexing and Slicing"
   ]
  },
  {
   "cell_type": "code",
   "execution_count": null,
   "id": "b90980d8",
   "metadata": {},
   "outputs": [],
   "source": [
    "# Get the value in the 2nd block, 3rd row and 1st column\n",
    "mat8[1,2,0] # [block 1, row2, column0] (x,y,z)"
   ]
  },
  {
   "cell_type": "code",
   "execution_count": null,
   "id": "14107a83",
   "metadata": {},
   "outputs": [],
   "source": [
    "mat8[0,0:1,0:2]"
   ]
  },
  {
   "cell_type": "code",
   "execution_count": null,
   "id": "75d3e262",
   "metadata": {},
   "outputs": [],
   "source": [
    "mat8[0:2] # Returns block 0 and 1"
   ]
  },
  {
   "cell_type": "code",
   "execution_count": null,
   "id": "03afa58b",
   "metadata": {},
   "outputs": [],
   "source": [
    "mat8[1,0:1,0:2]"
   ]
  },
  {
   "cell_type": "code",
   "execution_count": null,
   "id": "178e09db",
   "metadata": {},
   "outputs": [],
   "source": []
  },
  {
   "cell_type": "code",
   "execution_count": null,
   "id": "13e63165",
   "metadata": {},
   "outputs": [],
   "source": [
    "mat8[1,2,1]"
   ]
  },
  {
   "cell_type": "markdown",
   "id": "e2b79aaf",
   "metadata": {},
   "source": [
    "## Filter Array"
   ]
  },
  {
   "cell_type": "code",
   "execution_count": null,
   "id": "3abd4f1b",
   "metadata": {},
   "outputs": [],
   "source": [
    "# Provide a boolean array where values are above 20\n",
    "print(mat6)\n",
    "mat6 > 20"
   ]
  },
  {
   "cell_type": "code",
   "execution_count": null,
   "id": "710a617e",
   "metadata": {},
   "outputs": [],
   "source": [
    "# Return an array with just values over 20\n",
    "mat6[mat6>20]"
   ]
  },
  {
   "cell_type": "markdown",
   "id": "2c2ede24",
   "metadata": {},
   "source": [
    "## Statistics Operations"
   ]
  },
  {
   "cell_type": "code",
   "execution_count": null,
   "id": "2f0d6d42",
   "metadata": {},
   "outputs": [],
   "source": [
    "# Generate 50 random values between 0 and 100\n",
    "mat5 = np.random.randint(0,100,24)\n",
    "print('Mat5 contains:\\n',mat5,'\\n')\n",
    "\n",
    "print(\"Mean :\", mat5.mean())\n",
    "print(\"Standard Deviation :\", mat5.std())\n",
    "print(\"Variance :\", mat5.var())\n",
    "print(\"Min :\", mat5.min())\n",
    "print(\"Max :\", mat5.max())"
   ]
  },
  {
   "cell_type": "markdown",
   "id": "a1e4d0c2",
   "metadata": {},
   "source": [
    "## The Seed Function"
   ]
  },
  {
   "cell_type": "code",
   "execution_count": null,
   "id": "1704d05a",
   "metadata": {},
   "outputs": [],
   "source": [
    "# Used when you want to replicate randomization\n",
    "np.random.seed(50)\n",
    "mat9 = np.random.randint(0,50,10)\n",
    "mat9"
   ]
  },
  {
   "cell_type": "code",
   "execution_count": null,
   "id": "2c8b247c",
   "metadata": {},
   "outputs": [],
   "source": [
    "# Everything goes back to random on the next call\n",
    "mat10 = np.random.randint(0,50,10)\n",
    "mat10"
   ]
  },
  {
   "cell_type": "code",
   "execution_count": null,
   "id": "d727950d",
   "metadata": {},
   "outputs": [],
   "source": []
  }
 ],
 "metadata": {
  "kernelspec": {
   "display_name": "Python 3 (ipykernel)",
   "language": "python",
   "name": "python3"
  },
  "language_info": {
   "codemirror_mode": {
    "name": "ipython",
    "version": 3
   },
   "file_extension": ".py",
   "mimetype": "text/x-python",
   "name": "python",
   "nbconvert_exporter": "python",
   "pygments_lexer": "ipython3",
   "version": "3.11.2"
  }
 },
 "nbformat": 4,
 "nbformat_minor": 5
}
