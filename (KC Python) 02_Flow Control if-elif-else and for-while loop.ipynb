{
 "cells": [
  {
   "cell_type": "markdown",
   "id": "def6eac6-e701-46b6-b65a-a7e7a9df2b55",
   "metadata": {},
   "source": [
    "# Inputs and Flow Control Conditions"
   ]
  },
  {
   "cell_type": "code",
   "execution_count": null,
   "id": "40c39fd8-8041-4892-bc40-422b416a5bf6",
   "metadata": {},
   "outputs": [],
   "source": []
  },
  {
   "cell_type": "markdown",
   "id": "48718835-b365-4bbe-ae07-53a18add375b",
   "metadata": {},
   "source": [
    "## Understanding Data Types in Python"
   ]
  },
  {
   "cell_type": "code",
   "execution_count": null,
   "id": "9e2e08db-a475-471e-9968-45f738f6864e",
   "metadata": {},
   "outputs": [],
   "source": [
    "# There are basically three types of data we can work with in Python\n",
    "\n",
    "# 1: Integers (int): Examples are -3, 0, 5, 17, 34, 100\n",
    "# 2: Floats (float): Examples are 3.142, 3.5, 7.25, 10.75\n",
    "# 3. Strings (str): They are texts like \"Tola\", \"Doyin\", \"Elizabeth\", \"School\"\n",
    "# ONLY INTEGERS AND FLOATS CAN BE USED FOR REAL ARITHMETIC OPERATIONS\n",
    "# YOU CAN ONLY USE PLUS (+) FOR STRINGS FOR JOINING TEXTS and (*) for duplication"
   ]
  },
  {
   "cell_type": "code",
   "execution_count": 1,
   "id": "53679288-77d4-4953-8c42-7c275dfff854",
   "metadata": {},
   "outputs": [],
   "source": [
    "# Addding Integers in Python\n",
    "var1: int = 26\n",
    "var2: int = 38\n",
    "total = var1 + var2\n"
   ]
  },
  {
   "cell_type": "code",
   "execution_count": 2,
   "id": "19c91525",
   "metadata": {},
   "outputs": [],
   "source": [
    "# Various Ways of Printing Output Result in Python"
   ]
  },
  {
   "cell_type": "code",
   "execution_count": 3,
   "id": "fda61485",
   "metadata": {},
   "outputs": [
    {
     "name": "stdout",
     "output_type": "stream",
     "text": [
      "The sum of the integers = 64\n"
     ]
    }
   ],
   "source": [
    "print(\"The sum of the integers =\",total)"
   ]
  },
  {
   "cell_type": "code",
   "execution_count": 4,
   "id": "fc0806ca-53de-4680-9f68-41c3e42e332a",
   "metadata": {},
   "outputs": [
    {
     "name": "stdout",
     "output_type": "stream",
     "text": [
      "The sum of the integers = 64\n"
     ]
    }
   ],
   "source": [
    "print('The sum of the integers = '+str(total))"
   ]
  },
  {
   "cell_type": "code",
   "execution_count": 5,
   "id": "b6bce459-1194-4d09-8a24-8acc20a26a0b",
   "metadata": {},
   "outputs": [
    {
     "name": "stdout",
     "output_type": "stream",
     "text": [
      "The sum of the integers = 64\n"
     ]
    }
   ],
   "source": [
    "print(F\"The sum of the integers = {total}\")"
   ]
  },
  {
   "cell_type": "code",
   "execution_count": 6,
   "id": "dc3a8f3a-75fc-42af-af7c-4e5fbbd84d93",
   "metadata": {},
   "outputs": [
    {
     "name": "stdout",
     "output_type": "stream",
     "text": [
      "The sum of the integers = 64\n"
     ]
    }
   ],
   "source": [
    "# converting data into Integers in Python\n",
    "var1 = int(26.5) # It will truncate the .5 part of it var1 = 26\n",
    "var2 = int(38.5) # var2 = 38\n",
    "total = var1 + var2\n",
    "print(\"The sum of the integers =\",total)"
   ]
  },
  {
   "cell_type": "code",
   "execution_count": 7,
   "id": "97a35ca0-8e21-4bab-a766-50b6f710c9fb",
   "metadata": {},
   "outputs": [
    {
     "name": "stdout",
     "output_type": "stream",
     "text": [
      "The sum = 64.75\n"
     ]
    }
   ],
   "source": [
    "# Addding Floats in Python\n",
    "var1 = 26.75\n",
    "var2 = 38\n",
    "total = var1 + var2\n",
    "print(\"The sum =\",total)"
   ]
  },
  {
   "cell_type": "code",
   "execution_count": 8,
   "id": "328fd7f3-dc30-4d5b-b0fb-bf64140ff47c",
   "metadata": {},
   "outputs": [
    {
     "name": "stdout",
     "output_type": "stream",
     "text": [
      "The sum of the Floats = 74.0\n"
     ]
    }
   ],
   "source": [
    "# converting data into Floats in Python\n",
    "var1: float = float(36) # It will add .0 to 26 to make it 36.0\n",
    "var2: float = float(38) # var2 = 38.0\n",
    "total = var1 + var2\n",
    "print(\"The sum of the Floats =\",total)"
   ]
  },
  {
   "cell_type": "code",
   "execution_count": null,
   "id": "250f6d28-8069-4532-99d5-3830b29d1b39",
   "metadata": {},
   "outputs": [],
   "source": []
  },
  {
   "cell_type": "code",
   "execution_count": 9,
   "id": "2df4fc4c-551f-4dc2-9721-011edbe7e988",
   "metadata": {},
   "outputs": [
    {
     "name": "stdout",
     "output_type": "stream",
     "text": [
      "The sum of the Strings = 58\n"
     ]
    }
   ],
   "source": [
    "# Addding Strings in Python\n",
    "var1 = str(5) # That is another way to convert a number to a text in python\n",
    "var2 = str(8)\n",
    "total = var1 + var2\n",
    "print(\"The sum of the Strings =\",total)"
   ]
  },
  {
   "cell_type": "code",
   "execution_count": null,
   "id": "37fcb6e5-3cd4-4ebf-beda-4c1a8328eca4",
   "metadata": {},
   "outputs": [],
   "source": []
  },
  {
   "cell_type": "markdown",
   "id": "e86f0178-20c2-4800-a945-a9b76f9d9dc4",
   "metadata": {},
   "source": [
    "# Accepting user inputs in Python"
   ]
  },
  {
   "cell_type": "code",
   "execution_count": 10,
   "id": "16379604-498e-48b2-8c83-b2dabd445350",
   "metadata": {},
   "outputs": [
    {
     "name": "stdin",
     "output_type": "stream",
     "text": [
      " 45\n"
     ]
    }
   ],
   "source": [
    "num1: int\n",
    "num1 = input()"
   ]
  },
  {
   "cell_type": "code",
   "execution_count": 11,
   "id": "62fa9b5c",
   "metadata": {},
   "outputs": [
    {
     "name": "stdout",
     "output_type": "stream",
     "text": [
      "45\n"
     ]
    }
   ],
   "source": [
    "print(num1)"
   ]
  },
  {
   "cell_type": "code",
   "execution_count": 12,
   "id": "9919d6e4",
   "metadata": {},
   "outputs": [
    {
     "data": {
      "text/plain": [
       "str"
      ]
     },
     "execution_count": 12,
     "metadata": {},
     "output_type": "execute_result"
    }
   ],
   "source": [
    "type(num1) # any value from an input() function is a string (str)"
   ]
  },
  {
   "cell_type": "code",
   "execution_count": null,
   "id": "786d2ee0",
   "metadata": {},
   "outputs": [],
   "source": [
    "# Better way to accept input like an integer"
   ]
  },
  {
   "cell_type": "code",
   "execution_count": 13,
   "id": "260f425b",
   "metadata": {},
   "outputs": [
    {
     "name": "stdin",
     "output_type": "stream",
     "text": [
      "Type the value of any integer:  45\n"
     ]
    }
   ],
   "source": [
    "num2: int\n",
    "num2 = input(\"Type the value of any integer: \")\n",
    "num2 = int(num2) # very essential you convert it to the data type you want"
   ]
  },
  {
   "cell_type": "code",
   "execution_count": 14,
   "id": "84080417",
   "metadata": {},
   "outputs": [
    {
     "name": "stdout",
     "output_type": "stream",
     "text": [
      "The value of your integer is 45, and it is type: <class 'int'>\n"
     ]
    }
   ],
   "source": [
    "print(f\"The value of your integer is {num2}, and it is type: {type(num2)}\")"
   ]
  },
  {
   "cell_type": "code",
   "execution_count": null,
   "id": "8031ada3",
   "metadata": {},
   "outputs": [],
   "source": []
  },
  {
   "cell_type": "code",
   "execution_count": 15,
   "id": "036f4a10-270a-4c81-ad0b-21bc3a189530",
   "metadata": {},
   "outputs": [
    {
     "name": "stdin",
     "output_type": "stream",
     "text": [
      "What is your first name?: Sam\n",
      "Whas is your surname?: Joe\n"
     ]
    },
    {
     "name": "stdout",
     "output_type": "stream",
     "text": [
      "Hello CHM student, Your full name is: SamJoe\n"
     ]
    }
   ],
   "source": [
    "# The input function is used in python to accept typed text or numbers\n",
    "# The input is ALWAYS interpreted as text (String). for example:\n",
    "\n",
    "firstname = input(\"What is your first name?:\") #The text in the quotation marks is called \"prompt\"\n",
    "surname = input(\"Whas is your surname?:\")\n",
    "fullname = firstname + surname\n",
    "print(f'Hello CHM student, Your full name is: {fullname}')"
   ]
  },
  {
   "cell_type": "code",
   "execution_count": 16,
   "id": "45712e17-9962-4460-baf4-bd7057764f3c",
   "metadata": {},
   "outputs": [
    {
     "name": "stdin",
     "output_type": "stream",
     "text": [
      "What is your first name?: Sam\n",
      "Whas is your surname?: Joe\n"
     ]
    },
    {
     "name": "stdout",
     "output_type": "stream",
     "text": [
      "Hello CHMK student, Your full name is: Sam Joe\n"
     ]
    }
   ],
   "source": [
    "# You can add a space using the format (\" \") in between text variables \n",
    "firstname = input(\"What is your first name?:\")\n",
    "surname = input(\"Whas is your surname?:\")\n",
    "fullname = firstname + \" \" + surname\n",
    "print(\"Hello CHMK student, Your full name is:\",fullname)"
   ]
  },
  {
   "cell_type": "code",
   "execution_count": 17,
   "id": "f9a76b73-ef60-4e33-92cf-d847a502ec12",
   "metadata": {},
   "outputs": [
    {
     "name": "stdin",
     "output_type": "stream",
     "text": [
      "Enter any number? 45\n",
      "Enter another number? 7\n"
     ]
    },
    {
     "name": "stdout",
     "output_type": "stream",
     "text": [
      "Adding numbers without conversion will give: 457\n"
     ]
    }
   ],
   "source": [
    "# When asking for numbers, you MUST convert it or else arithmetic operation will join (add) the text together\n",
    "num1 = input(\"Enter any number?\")\n",
    "num2 = input(\"Enter another number?\")\n",
    "total = num1 + num2\n",
    "print(\"Adding numbers without conversion will give:\",total)"
   ]
  },
  {
   "cell_type": "code",
   "execution_count": 18,
   "id": "170fd963-efa0-431e-8c1b-71b47e5cad6b",
   "metadata": {},
   "outputs": [
    {
     "data": {
      "text/plain": [
       "str"
      ]
     },
     "execution_count": 18,
     "metadata": {},
     "output_type": "execute_result"
    }
   ],
   "source": [
    "type(num1)"
   ]
  },
  {
   "cell_type": "code",
   "execution_count": 19,
   "id": "b2b2aeaf-486c-48cc-90e2-cde3e79d3624",
   "metadata": {},
   "outputs": [
    {
     "name": "stdin",
     "output_type": "stream",
     "text": [
      "Enter any number? 45\n",
      "Enter another number? 7\n"
     ]
    },
    {
     "name": "stdout",
     "output_type": "stream",
     "text": [
      "Adding numbers after conversion will give: 52\n"
     ]
    }
   ],
   "source": [
    "# When asking for numbers, you MUST convert it or else arithmetic operation will join (add) the text together\n",
    "num1 = input(\"Enter any number?\")\n",
    "num2 = input(\"Enter another number?\")\n",
    "\n",
    "conv1 = int(num1)  # It is used to convert the text input into an Integer\n",
    "conv2 = int(num2)\n",
    "\n",
    "total = conv1 + conv2\n",
    "print(\"Adding numbers after conversion will give:\",total)"
   ]
  },
  {
   "cell_type": "code",
   "execution_count": 20,
   "id": "30a8efd8-a167-493b-9d5b-9bfd9bda0972",
   "metadata": {},
   "outputs": [
    {
     "name": "stdin",
     "output_type": "stream",
     "text": [
      "What is your name ? Sam\n",
      "Which year where you born? 1990\n"
     ]
    },
    {
     "name": "stdout",
     "output_type": "stream",
     "text": [
      "HelloSam,you will be33years old in the year 2022\n"
     ]
    }
   ],
   "source": [
    "# Printing the name and age of a student\n",
    "name = input(\"What is your name ?\")\n",
    "year_of_birth = input(\"Which year where you born?\")\n",
    "dob_num = int(year_of_birth)\n",
    "age = 2023 - dob_num\n",
    "message = \"Hello\" + name + \",\"+ \"you will be\" + str(age) + \"years old in the year 2023\"\n",
    "print(message)"
   ]
  },
  {
   "cell_type": "code",
   "execution_count": 21,
   "id": "2000cbb9-bc1e-46eb-81eb-0fc03e350e51",
   "metadata": {},
   "outputs": [
    {
     "name": "stdin",
     "output_type": "stream",
     "text": [
      "What is your name ? Sam\n",
      "Which year where you born? 1990\n"
     ]
    },
    {
     "name": "stdout",
     "output_type": "stream",
     "text": [
      "\n",
      "\n",
      "Hello Sam, you will be 33 years old in the year 2023\n"
     ]
    }
   ],
   "source": [
    "# Printing the name and age of a student and adding the space in between the text\n",
    "name = input(\"What is your name ?\")\n",
    "year = input(\"Which year where you born?\")\n",
    "age = 2023 - int(year)\n",
    "message = \"Hello \" + name + \", you will be \" + str(age) + \" years old in the year 2023\"\n",
    "print(\"\\n\") # Printing an empty line before printing our message\n",
    "print(message)"
   ]
  },
  {
   "cell_type": "code",
   "execution_count": 22,
   "id": "bdd73a07-c4a0-4107-84c6-6fd1714f7575",
   "metadata": {},
   "outputs": [
    {
     "name": "stdin",
     "output_type": "stream",
     "text": [
      "What is your name ?:  Sam\n",
      "Which year where you born?:  1990\n"
     ]
    },
    {
     "name": "stdout",
     "output_type": "stream",
     "text": [
      "\n",
      "\n",
      "Hello Sam, you will be 33 years old in the year 2023\n"
     ]
    }
   ],
   "source": [
    "# Printing the name and age of a student and adding the space in between the text\n",
    "name = input(\"What is your name ?: \")\n",
    "year = input(\"Which year where you born?: \")\n",
    "age = 2023 - int(year)\n",
    "message = f\"Hello {name}, you will be {age} years old in the year 2023\"\n",
    "print(\"\\n\") # Printing an empty line before printing our message\n",
    "print(message)"
   ]
  },
  {
   "cell_type": "markdown",
   "id": "d26b7f5f-5523-4d10-9625-91f2b9cd2e9e",
   "metadata": {},
   "source": [
    "## Flow Control in Python using the if, elif and else statements"
   ]
  },
  {
   "cell_type": "code",
   "execution_count": null,
   "id": "5b0e6285",
   "metadata": {},
   "outputs": [],
   "source": [
    "# if is used to perform an operation if the the condition is true\n",
    "# elif is a shorten form of else-if, for testing a different condition\n",
    "# else is executed if either the above if or elif condition is not true"
   ]
  },
  {
   "cell_type": "code",
   "execution_count": null,
   "id": "490b8fef",
   "metadata": {},
   "outputs": [],
   "source": []
  },
  {
   "cell_type": "code",
   "execution_count": null,
   "id": "55b124ec-0de0-4cfa-ac3c-54a16cc794f6",
   "metadata": {},
   "outputs": [],
   "source": [
    "# Valid Comparism operators\n",
    "# '>' That is greater than operator\n",
    "# '<' That is less than operator\n",
    "# '>=' That is greater than or equal to \n",
    "# '<=' That is less than or equal to\n",
    "# '==\" That  is equal\n",
    "# '!=\" That is not equal"
   ]
  },
  {
   "cell_type": "code",
   "execution_count": 25,
   "id": "4346aa34",
   "metadata": {},
   "outputs": [
    {
     "name": "stdout",
     "output_type": "stream",
     "text": [
      " 5 is greater than 2: True\n",
      " 7 is less than 5: False\n",
      " 8 is greater than or equal to 15: False\n",
      " 3 is less than or equal to 6: False\n",
      " 7 is equal to 8: False\n",
      " 7 is  not equal to 8: True\n"
     ]
    }
   ],
   "source": [
    "print(f' 5 is greater than 2: {5 > 2}')\n",
    "print(f' 7 is less than 5: {7 < 5}')\n",
    "print(F\" 8 is greater than or equal to 15: {8 >= 15}\")\n",
    "print(F' 3 is less than or equal to 6: {3 >= 6}')\n",
    "print(f\" 7 is equal to 8: {7 == 8}\")\n",
    "print(f' 7 is  not equal to 8: {7 != 8}')"
   ]
  },
  {
   "cell_type": "code",
   "execution_count": null,
   "id": "96900fd1-a402-436b-a19a-203262b20577",
   "metadata": {},
   "outputs": [],
   "source": [
    "# Invalid Comparism operators and will cause syntax error\n",
    "# =>, =<, =!"
   ]
  },
  {
   "cell_type": "code",
   "execution_count": 26,
   "id": "52dd91a2-35a2-4cee-8bf6-50ef9bb8aba2",
   "metadata": {},
   "outputs": [],
   "source": [
    "# Examples of using condition operator in programming\n",
    "age_john = 13\n",
    "age_sam = 15"
   ]
  },
  {
   "cell_type": "code",
   "execution_count": 27,
   "id": "aa23f80b-5fe2-4a45-84ea-7505fb5bedbc",
   "metadata": {},
   "outputs": [
    {
     "data": {
      "text/plain": [
       "True"
      ]
     },
     "execution_count": 27,
     "metadata": {},
     "output_type": "execute_result"
    }
   ],
   "source": [
    "age_sam != 13"
   ]
  },
  {
   "cell_type": "code",
   "execution_count": 32,
   "id": "69d3bc5b-ff7f-43c1-908e-1438095428a5",
   "metadata": {},
   "outputs": [
    {
     "name": "stdin",
     "output_type": "stream",
     "text": [
      "What is your name?: 24\n",
      "What is your current age?: 25\n"
     ]
    },
    {
     "name": "stdout",
     "output_type": "stream",
     "text": [
      "\n",
      "\n"
     ]
    }
   ],
   "source": [
    "# Using the 'if' Statement\n",
    "# Determining if a student is a teenager or not\n",
    "\n",
    "name = input(\"What is your name?:\")\n",
    "age = input(\"What is your current age?:\")\n",
    "age = int(age)\n",
    "print(\"\\n\")\n",
    "if(age >= 13 and age <= 19):\n",
    "    print(f\"Hello {name}, you are a teenager\")\n",
    "    "
   ]
  },
  {
   "cell_type": "code",
   "execution_count": 34,
   "id": "aa7fe1c6-0666-401e-b31d-0fcaac99115c",
   "metadata": {},
   "outputs": [
    {
     "name": "stdin",
     "output_type": "stream",
     "text": [
      "Input any number:  15\n"
     ]
    },
    {
     "name": "stdout",
     "output_type": "stream",
     "text": [
      "The number 15 is an odd number\n"
     ]
    }
   ],
   "source": [
    "# Using the 'if-elif' Statement\n",
    "# Determining if a student is a teenager or not\n",
    "\n",
    "number: int\n",
    "number = input(\"Input any number: \")\n",
    "number = int(number)\n",
    "\n",
    "if(number % 2 == 0):\n",
    "    print(f'The number {number} is an even number')\n",
    "else:\n",
    "    print(f'The number {number} is an odd number')"
   ]
  },
  {
   "cell_type": "code",
   "execution_count": 35,
   "id": "f7415fe4-57de-4abb-a942-43038bad4fcd",
   "metadata": {},
   "outputs": [
    {
     "name": "stdin",
     "output_type": "stream",
     "text": [
      "Input any number:  22\n"
     ]
    },
    {
     "name": "stdout",
     "output_type": "stream",
     "text": [
      "The number 22 is even.\n"
     ]
    }
   ],
   "source": [
    "number = input(\"Input any number: \")\n",
    "number = int(number)\n",
    "\n",
    "text = 'even' if number % 2 == 0 else \"odd\"\n",
    "\n",
    "print(f\"The number {number} is {text}.\")"
   ]
  },
  {
   "cell_type": "markdown",
   "id": "585c13af-9c59-4843-be5e-3e322aba11f4",
   "metadata": {},
   "source": [
    "## Classwork"
   ]
  },
  {
   "cell_type": "code",
   "execution_count": null,
   "id": "a0b47a86-27a3-4220-aab5-db1d7ced9f9b",
   "metadata": {},
   "outputs": [],
   "source": [
    "#Class work 1\n",
    "\n",
    "# You are given a job as an Administrator for CHM Platform and you are to prepare the \n",
    "# admission list of the students based on the following information:\n",
    "# Collect their Firstname, Surname, and age using the input function. \n",
    "# Then put them in classes based on their age,  9 to 14 => \"Favour Class\",  \n",
    "# 15 to 70 => \"Knowledge Class\", passed knowledge and interview => \"Wisdom Class\","
   ]
  },
  {
   "cell_type": "code",
   "execution_count": null,
   "id": "db3d6d34-6ebe-4015-bf70-ff5aa125b528",
   "metadata": {},
   "outputs": [],
   "source": [
    "# Version 1: Beginners\n",
    "\n",
    "first_name = input(\"What is your first name?:\")\n",
    "surname = input(\"What is your surname?:\")\n",
    "\n",
    "age = input(\"What is your age?:\")\n",
    "age = int(age)\n",
    "passed_knowledge = input(\"Did you offer and pass knowledge class?(yes or no): \")\n",
    "attend_interview = input(\"Did you attend the wisdom class interview?(yes or no): \")\n",
    "\n",
    "if(age >= 9 and age <= 14):\n",
    "    your_class = \"Favour\"\n",
    "elif(age >= 17 and age <= 70): # elif simply means else if\n",
    "    your_class = 'Knowledge'\n",
    "elif(age>= 16 and passed_knowledge == 'yes' and attend_interview == \"yes\"):\n",
    "    your_class = 'Wisdom'\n",
    "else:\n",
    "    your_class = 'Not Qualified'\n",
    "    \n",
    "print('\\n')\n",
    "print(f'Hello {first_name} {surname}, you are admitted into the {your_class} class')\n",
    "                 "
   ]
  },
  {
   "cell_type": "code",
   "execution_count": null,
   "id": "356169a4-01e5-48eb-b9e5-760206a671b6",
   "metadata": {},
   "outputs": [],
   "source": [
    "# Version 2: Professional\n",
    "first_name: str\n",
    "surname: str\n",
    "age: int\n",
    "wisdom_qualified: bool\n",
    "\n",
    "full_name = input(\"What is your full name?: \")\n",
    "age = int(input(\"What is your age?: \"))    \n",
    "question1 = input(\"Did you complete the knowledge class?(yes or no): \")\n",
    "if (question1.lower == 'yes'):\n",
    "    wisdom_qualified = True\n",
    "else:\n",
    "    wisdom_qualified = False\n",
    "print('\\n')\n",
    "if(age < 9 or age > 70):\n",
    "    print(f'Good day {full_name},')\n",
    "    print(f'We are sorry, you are not Qualified')\n",
    "elif(wisdom_qualified):\n",
    "    your_class = \"Wisdom class\"\n",
    "    print(f'Good day {full_name},')\n",
    "    print(f'you are qualified apply for the {your_class}')\n",
    "elif(age >= 15 and age <= 70):\n",
    "    your_class = 'Knowledge class'\n",
    "    print(f'Good day {full_name},')\n",
    "    print(f'you are qualified apply for the {your_class}')\n",
    "else:\n",
    "    your_class = 'Favour class'\n",
    "    print(f'Good day {full_name},')\n",
    "    print(f'you are qualified apply for the {your_class}')   \n",
    " "
   ]
  },
  {
   "cell_type": "code",
   "execution_count": null,
   "id": "614416ce",
   "metadata": {},
   "outputs": [],
   "source": []
  },
  {
   "cell_type": "code",
   "execution_count": null,
   "id": "3a16da86-eca0-4b14-befb-7b6a835df74a",
   "metadata": {},
   "outputs": [],
   "source": []
  },
  {
   "cell_type": "code",
   "execution_count": null,
   "id": "14766a83",
   "metadata": {},
   "outputs": [],
   "source": [
    "# Understanding the for loop"
   ]
  },
  {
   "cell_type": "code",
   "execution_count": 36,
   "id": "f0c44075",
   "metadata": {},
   "outputs": [
    {
     "name": "stdout",
     "output_type": "stream",
     "text": [
      "0\n",
      "1\n",
      "2\n",
      "3\n",
      "4\n",
      "5\n"
     ]
    }
   ],
   "source": [
    "#start = 0\n",
    "stop = 6\n",
    "\n",
    "for num in range(stop): #start: 0, stop 6-1 = 5\n",
    "    print(num)"
   ]
  },
  {
   "cell_type": "code",
   "execution_count": 37,
   "id": "edad15b4",
   "metadata": {},
   "outputs": [
    {
     "name": "stdout",
     "output_type": "stream",
     "text": [
      "1\n",
      "2\n",
      "3\n",
      "4\n",
      "5\n",
      "6\n",
      "7\n",
      "8\n",
      "9\n",
      "10\n"
     ]
    }
   ],
   "source": [
    "# Stating the start and stop criteria\n",
    "start = 1\n",
    "stop = 11\n",
    "\n",
    "for num in range(start, stop): #start: 1, stop 11-1 = 10\n",
    "    print(num)"
   ]
  },
  {
   "cell_type": "code",
   "execution_count": 38,
   "id": "30abbbae",
   "metadata": {},
   "outputs": [
    {
     "name": "stdout",
     "output_type": "stream",
     "text": [
      "2\n",
      "4\n",
      "6\n",
      "8\n",
      "10\n",
      "12\n",
      "14\n",
      "16\n",
      "18\n",
      "20\n"
     ]
    }
   ],
   "source": [
    "# Stating the start, stop, and steps criteria\n",
    "start = 2\n",
    "stop = 20\n",
    "step = 2\n",
    "\n",
    "for num in range(start,stop+1,step): \n",
    "    print(num)"
   ]
  },
  {
   "cell_type": "code",
   "execution_count": 39,
   "id": "6f156d84",
   "metadata": {},
   "outputs": [
    {
     "name": "stdout",
     "output_type": "stream",
     "text": [
      "1\n",
      "3\n",
      "5\n",
      "7\n",
      "9\n",
      "11\n",
      "13\n",
      "15\n",
      "17\n",
      "19\n"
     ]
    }
   ],
   "source": [
    "# Stating the start, stop, and steps criteria\n",
    "start = 1\n",
    "stop = 20\n",
    "step = 2\n",
    "\n",
    "for num in range(start,stop+1,step): \n",
    "    print(num)"
   ]
  },
  {
   "cell_type": "code",
   "execution_count": 40,
   "id": "af35fcd4",
   "metadata": {},
   "outputs": [
    {
     "name": "stdout",
     "output_type": "stream",
     "text": [
      "Loop \t my_sum\n",
      "1 \t 1\n",
      "2 \t 3\n",
      "3 \t 6\n",
      "4 \t 10\n",
      "5 \t 15\n",
      "6 \t 21\n",
      "7 \t 28\n",
      "8 \t 36\n",
      "9 \t 45\n",
      "10 \t 55\n",
      "The sum of numbers between 1 and 10 is: 55\n"
     ]
    }
   ],
   "source": [
    "# Implementing the summation using for loop\n",
    "start = 1\n",
    "stop = 10\n",
    "# steps = 1\n",
    "my_sum = 0 # Initialization for addition\n",
    "\n",
    "print(\"Loop\",\"\\t\",\"my_sum\")\n",
    "#Beginning of loop\n",
    "for numbers in range(start,(stop+1)):\n",
    "    my_sum = my_sum + numbers\n",
    "    print(numbers,\"\\t\", my_sum)\n",
    "#End of loop    \n",
    "\n",
    "print(\"The sum of numbers between 1 and 10 is: \"+str(my_sum))"
   ]
  },
  {
   "cell_type": "code",
   "execution_count": 41,
   "id": "45f5f99d",
   "metadata": {},
   "outputs": [
    {
     "name": "stdout",
     "output_type": "stream",
     "text": [
      "The sum of even numbers between 1 and 10 is: 30\n"
     ]
    }
   ],
   "source": [
    "# Implementing the summation of even numbers using for loop\n",
    "start = 2\n",
    "stop = 10\n",
    "steps = 2\n",
    "my_sum = 0 # Initialization for addition\n",
    "\n",
    "#Beginning of loop\n",
    "for numbers in range(start,(stop+1),steps):\n",
    "    my_sum = my_sum + numbers   \n",
    "\n",
    "print(\"The sum of even numbers between 1 and 10 is: \"+str(my_sum))"
   ]
  },
  {
   "cell_type": "code",
   "execution_count": null,
   "id": "e55b9794",
   "metadata": {},
   "outputs": [],
   "source": []
  },
  {
   "cell_type": "code",
   "execution_count": null,
   "id": "42eccecd",
   "metadata": {},
   "outputs": [],
   "source": [
    "#The while loop\n",
    "#The while always executes as long as the condition is true.\n",
    "# PLEASE ALWAYS PUT A CONDITION THAT CHANGES AND BECOMES FALSE AFTER A TIME"
   ]
  },
  {
   "cell_type": "code",
   "execution_count": 42,
   "id": "9c3200a9",
   "metadata": {},
   "outputs": [
    {
     "name": "stdout",
     "output_type": "stream",
     "text": [
      "1\n",
      "2\n",
      "3\n",
      "4\n",
      "5\n",
      "6\n",
      "7\n",
      "8\n",
      "9\n",
      "10\n"
     ]
    }
   ],
   "source": [
    "# Counting the first ten positive integer using while else\n",
    "start = 1\n",
    "stop = 10\n",
    "\n",
    "while(start <= stop):\n",
    "    print(start)\n",
    "    start = start + 1 # CONDITION TO MAKE IT FALSE AFTER SOMETIMES"
   ]
  },
  {
   "cell_type": "code",
   "execution_count": 43,
   "id": "4d952864",
   "metadata": {},
   "outputs": [
    {
     "name": "stdout",
     "output_type": "stream",
     "text": [
      "2\n",
      "4\n",
      "6\n",
      "8\n",
      "10\n"
     ]
    }
   ],
   "source": [
    "# Counting the even positive integers between 1 and 10 using while else\n",
    "start = 2\n",
    "stop = 10\n",
    "steps = 2\n",
    "\n",
    "while(start <= stop):\n",
    "    print(start)\n",
    "    start = start + steps # CONDITION TO MAKE IT FALSE AFTER SOMETIMES"
   ]
  },
  {
   "cell_type": "code",
   "execution_count": 44,
   "id": "044aca2a",
   "metadata": {},
   "outputs": [
    {
     "name": "stdout",
     "output_type": "stream",
     "text": [
      "Last value of numbers is: 11\n",
      "\n",
      "The sum of numbers between 1 and 10 is: 55\n"
     ]
    }
   ],
   "source": [
    "# Implementing the summation using while loop\n",
    "numbers = 1\n",
    "stop = 10\n",
    "steps = 1\n",
    "my_sum2 = 0 # Initialization for addition\n",
    "\n",
    "#Beginning of loop\n",
    "while(numbers <= stop): # numbers must increment above stop to break the loop\n",
    "    my_sum2 = my_sum2 + numbers\n",
    "    numbers += steps # same as (numbers = numbers + steps)\n",
    "#End of loop    \n",
    "print(\"Last value of numbers is:\", numbers)\n",
    "print()        \n",
    "\n",
    "print(\"The sum of numbers between 1 and 10 is: \"+str(my_sum2))"
   ]
  },
  {
   "cell_type": "code",
   "execution_count": 45,
   "id": "4de72355",
   "metadata": {},
   "outputs": [
    {
     "name": "stdout",
     "output_type": "stream",
     "text": [
      "11 is more than 10, breaking out of the loop\n",
      "The sum of numbers between 1 and 10 is: 55\n"
     ]
    }
   ],
   "source": [
    "# Method 2 of Implementing the summation using while loop\n",
    "numbers = 1\n",
    "steps = 1\n",
    "stop = 10\n",
    "my_sum3 = 0 # Initialization for addition\n",
    "\n",
    "#Beginning of while loop\n",
    "while(True):\n",
    "    my_sum3 = my_sum3 + numbers\n",
    "    numbers += steps # same as (numbers = numbers + steps)\n",
    "    if(numbers > stop): # Declare your stop criteria to break the loop\n",
    "        print(f\"{numbers} is more than 10, breaking out of the loop\")\n",
    "        break\n",
    "        \n",
    "#End of while loop    \n",
    "print(\"The sum of numbers between 1 and \"+str(numbers-steps)+\" is: \"+str(my_sum3))"
   ]
  },
  {
   "cell_type": "code",
   "execution_count": null,
   "id": "952cdd49",
   "metadata": {},
   "outputs": [],
   "source": []
  },
  {
   "cell_type": "code",
   "execution_count": null,
   "id": "e5246617-1391-43c8-837c-11b91fce82bd",
   "metadata": {},
   "outputs": [],
   "source": [
    "# Deadline for Submission"
   ]
  },
  {
   "cell_type": "code",
   "execution_count": null,
   "id": "d6f1b5e0-6190-4c8d-af77-caaa73f6cd83",
   "metadata": {},
   "outputs": [],
   "source": [
    "# Assignment 1\n",
    "\n",
    "\"\"\" You are given a job as an Administrator for CHMK Platform and you are to prepare the \n",
    "certificate of the students based on the following information:\n",
    "Collect their Firstname, Surname, and Scores using the input function. \n",
    "Then grade them using these score ranges 100-70 as \"Excellent\", 60-69 as \"Very Good\", \n",
    "50-59 as \"Good\", 40-49 as \"Pass\" using if, elif and else statement \"\"\""
   ]
  },
  {
   "cell_type": "code",
   "execution_count": null,
   "id": "7d98806b-3916-47ec-94ed-d432d5950798",
   "metadata": {},
   "outputs": [],
   "source": []
  },
  {
   "cell_type": "code",
   "execution_count": null,
   "id": "7a2c44c4",
   "metadata": {},
   "outputs": [],
   "source": [
    "# Assignment 2\n",
    "# Sum all the even numbers between 1 and 100 using for loop"
   ]
  },
  {
   "cell_type": "code",
   "execution_count": null,
   "id": "8ddfa6b4",
   "metadata": {},
   "outputs": [],
   "source": []
  },
  {
   "cell_type": "code",
   "execution_count": null,
   "id": "aa6140ad",
   "metadata": {},
   "outputs": [],
   "source": [
    "# Assignment 3\n",
    "# Sum all the odd numbers between 1 and 100 using each of the two versions of while loop"
   ]
  },
  {
   "cell_type": "code",
   "execution_count": null,
   "id": "28fd496b",
   "metadata": {},
   "outputs": [],
   "source": []
  }
 ],
 "metadata": {
  "kernelspec": {
   "display_name": "Python 3 (ipykernel)",
   "language": "python",
   "name": "python3"
  },
  "language_info": {
   "codemirror_mode": {
    "name": "ipython",
    "version": 3
   },
   "file_extension": ".py",
   "mimetype": "text/x-python",
   "name": "python",
   "nbconvert_exporter": "python",
   "pygments_lexer": "ipython3",
   "version": "3.12.0"
  }
 },
 "nbformat": 4,
 "nbformat_minor": 5
}
