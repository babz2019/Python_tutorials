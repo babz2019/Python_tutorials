{
 "cells": [
  {
   "cell_type": "code",
   "execution_count": null,
   "metadata": {},
   "outputs": [],
   "source": [
    "# DATA STRUCTURES IN PYTHON"
   ]
  },
  {
   "cell_type": "code",
   "execution_count": null,
   "metadata": {},
   "outputs": [],
   "source": [
    "# LISTS\n",
    "# In Python, lists make it easy to work with ordered data\n",
    "# Lists are a collection of a built-in data structure for \n",
    "# storing and accessing objects which belongs in a specific sequence\n",
    "\n",
    "# How to Create LISTS in Python\n",
    "example = list() # Using the list constructor\n",
    "example2 = [] # That is the most popular way"
   ]
  },
  {
   "cell_type": "code",
   "execution_count": null,
   "metadata": {},
   "outputs": [],
   "source": [
    "type(example2)"
   ]
  },
  {
   "cell_type": "code",
   "execution_count": null,
   "metadata": {},
   "outputs": [],
   "source": [
    "# Creating and working with lists\n",
    "primes_list = [2, 3, 5, 7, 11, 13]\n",
    "print(primes_list)"
   ]
  },
  {
   "cell_type": "code",
   "execution_count": null,
   "metadata": {},
   "outputs": [],
   "source": [
    "print(\">>>AVAILABLE LIST FUNCTIONS/METHODS<<\\n\")\n",
    "list_methods = [x  for x in (dir(primes_list)) if x[0] != '_' ]\n",
    "print(list_methods)"
   ]
  },
  {
   "cell_type": "code",
   "execution_count": null,
   "metadata": {},
   "outputs": [],
   "source": [
    "print(dir(primes_list))"
   ]
  },
  {
   "cell_type": "code",
   "execution_count": null,
   "metadata": {},
   "outputs": [],
   "source": [
    "# Method\tDescription\n",
    "# append()\tAdds an element at the end of the list\n",
    "# clear()\tRemoves all the elements from the list\n",
    "# copy()\tReturns a copy of the list\n",
    "# count()\tReturns the number of elements with the specified value\n",
    "# extend()\tAdd the elements of a list (or any iterable), to the end of the current list\n",
    "# index()\tReturns the index of the first element with the specified value\n",
    "# insert()\tAdds an element at the specified position\n",
    "# pop()\tRemoves the element at the specified position\n",
    "# remove()\tRemoves the first item with the specified value\n",
    "# reverse()\tReverses the order of the list\n",
    "# sort()\tSorts the list"
   ]
  },
  {
   "cell_type": "code",
   "execution_count": null,
   "metadata": {},
   "outputs": [],
   "source": [
    "3*5/6"
   ]
  },
  {
   "cell_type": "markdown",
   "metadata": {},
   "source": [
    "## Reasons why lists are mutable data structure"
   ]
  },
  {
   "cell_type": "code",
   "execution_count": null,
   "metadata": {},
   "outputs": [],
   "source": [
    "#1. You can add element to a list using append method\n",
    "primes_list = [2, 3, 5, 7, 11, 13]\n",
    "primes_list.append(17)\n",
    "primes_list"
   ]
  },
  {
   "cell_type": "code",
   "execution_count": null,
   "metadata": {},
   "outputs": [],
   "source": [
    "#2. You can remove the first of any element in a list\n",
    "primes_list = [2, 3, 5, 7, 11, 13, 17, 19]\n",
    "primes_list.remove(17) # will remove 17 from the list\n",
    "primes_list"
   ]
  },
  {
   "cell_type": "code",
   "execution_count": null,
   "metadata": {},
   "outputs": [],
   "source": [
    "#3. You can change any element in a list\n",
    "primes_list = [2, 3, 5, 7, 11, 17]\n",
    "print('original list:',primes_list)\n",
    "primes_list[5] = 13 # will change 17 to 13\n",
    "print('list after changes:', primes_list)"
   ]
  },
  {
   "cell_type": "code",
   "execution_count": null,
   "metadata": {},
   "outputs": [],
   "source": [
    "# Appending more items to a list\n",
    "primes_list.append(17)\n",
    "primes_list.append(19)\n",
    "\n",
    "primes_list # The orders are preserved in list"
   ]
  },
  {
   "cell_type": "code",
   "execution_count": null,
   "metadata": {},
   "outputs": [],
   "source": [
    "#4. you can permanently reverse the content of a list\n",
    "print('original list:',primes_list)\n",
    "primes_list.reverse() # the list is permanently reversed\n",
    "print('list after reverse() operation:',primes_list)"
   ]
  },
  {
   "cell_type": "code",
   "execution_count": null,
   "metadata": {},
   "outputs": [],
   "source": [
    "#5. you can permanently sort the content of a list\n",
    "print('original list:',primes_list)\n",
    "primes_list.sort() # the list is permanently reversed\n",
    "print('list after sort() operation:',primes_list)"
   ]
  },
  {
   "cell_type": "code",
   "execution_count": null,
   "metadata": {},
   "outputs": [],
   "source": [
    "# the insert(x,y) function insert the value of y in the index location x\n",
    "ord_list = [3, 4, 7, 0]\n",
    "print('ord_list before insert operation:', ord_list)\n",
    "ord_list.insert(0,9)\n",
    "print('ord_list after insert operation:', ord_list)"
   ]
  },
  {
   "cell_type": "code",
   "execution_count": null,
   "metadata": {},
   "outputs": [],
   "source": []
  },
  {
   "cell_type": "code",
   "execution_count": null,
   "metadata": {},
   "outputs": [],
   "source": [
    "# try using the  insert() function on primes_list to insert 5 at index 2\n",
    "\n"
   ]
  },
  {
   "cell_type": "code",
   "execution_count": null,
   "metadata": {},
   "outputs": [],
   "source": [
    "# try using the pop() function on the primes_list at index 7"
   ]
  },
  {
   "cell_type": "code",
   "execution_count": null,
   "metadata": {},
   "outputs": [],
   "source": []
  },
  {
   "cell_type": "code",
   "execution_count": null,
   "metadata": {},
   "outputs": [],
   "source": [
    "# try using the count() function to know how many occurence of 5 do you now have in primes_list"
   ]
  },
  {
   "cell_type": "code",
   "execution_count": null,
   "metadata": {},
   "outputs": [],
   "source": []
  },
  {
   "cell_type": "code",
   "execution_count": null,
   "metadata": {},
   "outputs": [],
   "source": [
    "# Item elements in a list are accessed using an index starting with\n",
    "# either a zero  and can use a negative or positive index\n",
    "\n",
    "#  Index  0  1  2  3  4   5   6    7\n",
    "#  list  [2, 3, 5, 7, 11, 13, 17, 19]\n",
    "#  Index -8 -7 -6 -5  -4  -3  -2  -1\n",
    "\n",
    "primes = [2, 3, 5, 7, 11, 13, 17, 19]\n",
    "\n",
    "print('primes[0] is:', primes[0])\n",
    "print('primes[-8] is:', primes[-8])\n",
    "print('primes[-3] is:', primes[-3])\n",
    "print('primes[2] is:', primes[2])\n"
   ]
  },
  {
   "cell_type": "code",
   "execution_count": null,
   "metadata": {},
   "outputs": [],
   "source": [
    "print('primes[8] gives an error:', primes[8])"
   ]
  },
  {
   "cell_type": "code",
   "execution_count": null,
   "metadata": {},
   "outputs": [],
   "source": [
    "# Slicing a LIST in python\n",
    "# primes =  [2, 3, 5, 7, 11, 13, 17, 19]\n",
    "print(primes)\n",
    "print('The values of primes[2:5] is:', primes[2:5]) # prints index 2 to 4\n",
    "print('The values of primes[0:4] is:', primes[0:4]) # prints index 0 to 3\n",
    "print('The values of primes[1:6] is:', primes[1:6]) # prints index 2 to 5"
   ]
  },
  {
   "cell_type": "code",
   "execution_count": null,
   "metadata": {},
   "outputs": [],
   "source": [
    "print(primes[:3])"
   ]
  },
  {
   "cell_type": "code",
   "execution_count": null,
   "metadata": {},
   "outputs": [],
   "source": [
    "# List can contain integers, booleans, strings and even other lists\n",
    "example3 = [128, True, 'Alpha', 3.142, [64, 'Moyo']]\n",
    "example3"
   ]
  },
  {
   "cell_type": "code",
   "execution_count": null,
   "metadata": {},
   "outputs": [],
   "source": [
    "example3[-1][1]"
   ]
  },
  {
   "cell_type": "code",
   "execution_count": null,
   "metadata": {},
   "outputs": [],
   "source": [
    "# Lists can be combined by concatenation\n",
    "numbers = [1, 2, 3]\n",
    "letters = ['a', 'b', 'c']\n",
    "print('numbers + letters gives: ', (numbers + letters))\n",
    "print('letters + numbers gives: ', (letters + numbers))"
   ]
  },
  {
   "cell_type": "code",
   "execution_count": null,
   "metadata": {},
   "outputs": [],
   "source": [
    "# Creating 2-Dimensional Array list\n",
    "# It is created by creating multiple row vector arrays separated by commas(,)\n",
    "dim_list =[[-2, 5, 7, -4],\n",
    "           [8, 0, 2, 9],\n",
    "           [-1, 6, -3, 12]]\n",
    "dim_list    "
   ]
  },
  {
   "cell_type": "code",
   "execution_count": null,
   "metadata": {},
   "outputs": [],
   "source": [
    "# Extracting the first element of the list array\n",
    "dim_list[1][3]     #dim_list[row_index][col_index]"
   ]
  },
  {
   "cell_type": "code",
   "execution_count": null,
   "metadata": {},
   "outputs": [],
   "source": [
    "# Extracting the last element of the list array\n",
    "dim_list[-1][-1]"
   ]
  },
  {
   "cell_type": "code",
   "execution_count": null,
   "metadata": {},
   "outputs": [],
   "source": [
    "# Extracting the entire second row\n",
    "dim_list[1]"
   ]
  },
  {
   "cell_type": "code",
   "execution_count": null,
   "metadata": {},
   "outputs": [],
   "source": [
    "print(dim_list)"
   ]
  },
  {
   "cell_type": "code",
   "execution_count": null,
   "metadata": {},
   "outputs": [],
   "source": [
    "# Extracting the entire 3rd column\n",
    "[row[2] for row in dim_list]"
   ]
  },
  {
   "cell_type": "code",
   "execution_count": null,
   "metadata": {},
   "outputs": [],
   "source": [
    "# Extracting the entire 2nd and 3rd column\n",
    "[row[1:3] for row in dim_list]"
   ]
  },
  {
   "cell_type": "code",
   "execution_count": null,
   "metadata": {},
   "outputs": [],
   "source": [
    "# Extracting the entire 2nd and 3rd column\n",
    "[row[1:3] for row in dim_list[1:3]] #row[1:3] for the rows and dim_list[1:3] for columns. 3 is not included"
   ]
  },
  {
   "cell_type": "code",
   "execution_count": null,
   "metadata": {},
   "outputs": [],
   "source": []
  },
  {
   "cell_type": "code",
   "execution_count": null,
   "metadata": {},
   "outputs": [],
   "source": [
    "# WORKING WITH SETS IN PYTHON\n",
    "# SETS are unordered, the elements in a set do not have index like list, string and tuples\n",
    "# SETS are useful when you are working with data and the order or frequency of the \n",
    "# values do not matter\n",
    "\n",
    "set_example = set() # Creating a set constructor\n",
    "# example4_1 = {} That is an empty dictionary\n",
    "# printing all the available method one can perform with a set\n",
    "print(\">>>AVAILABLE SET FUNCTIONS/METHODS<<\\n\")\n",
    "set_methods = [x  for x in (dir(set_example)) if x[0] != '_' ]\n",
    "print(set_methods)"
   ]
  },
  {
   "cell_type": "code",
   "execution_count": null,
   "metadata": {},
   "outputs": [],
   "source": [
    "# Method\tDescription\n",
    "# add()\tAdds an element to the set\n",
    "# clear()\tRemoves all the elements from the set\n",
    "# copy()\tReturns a copy of the set\n",
    "# difference()\tReturns a set containing the difference between two or more sets\n",
    "# difference_update()\tRemoves the items in this set that are also included in another, specified set\n",
    "# discard()\tRemove the specified item\n",
    "# intersection()\tReturns a set, that is the intersection of two or more sets\n",
    "# intersection_update()\tRemoves the items in this set that are not present in other, specified set(s)\n",
    "# isdisjoint()\tReturns whether two sets have a intersection or not\n",
    "# issubset()\tReturns whether another set contains this set or not\n",
    "# issuperset()\tReturns whether this set contains another set or not\n",
    "# pop()\tRemoves an element from the set\n",
    "# remove()\tRemoves the specified element\n",
    "# symmetric_difference()\tReturns a set with the symmetric differences of two sets\n",
    "# symmetric_difference_update()\tinserts the symmetric differences from this set and another\n",
    "# union()\tReturn a set containing the union of sets\n",
    "# update()\tUpdate the set with another set, or any other iterable"
   ]
  },
  {
   "cell_type": "code",
   "execution_count": null,
   "metadata": {},
   "outputs": [],
   "source": []
  },
  {
   "cell_type": "code",
   "execution_count": null,
   "metadata": {},
   "outputs": [],
   "source": [
    "# Let us examine how to use the add function on a set\n",
    "example4 = {23, 18}\n",
    "print(help(example4.add))\n",
    "# NOTE: DUPLICATES ARE NOT STORED IN A SET"
   ]
  },
  {
   "cell_type": "code",
   "execution_count": null,
   "metadata": {},
   "outputs": [],
   "source": []
  },
  {
   "cell_type": "code",
   "execution_count": null,
   "metadata": {},
   "outputs": [],
   "source": [
    "# With sets, you can add, remove, clear and update any element.\n",
    "# THAT IS WHY SET ARE MUTABLE DATA STRUCTURES"
   ]
  },
  {
   "cell_type": "code",
   "execution_count": null,
   "metadata": {},
   "outputs": [],
   "source": [
    "example4"
   ]
  },
  {
   "cell_type": "code",
   "execution_count": null,
   "metadata": {},
   "outputs": [],
   "source": [
    "#1. You can add elements to a set using the add() function\n",
    "example4.add(42)\n",
    "example4.add(False)\n",
    "example4.add(3.14159)\n",
    "example4.add('Carbon')\n",
    "example4.add('Samad')\n",
    " \n",
    "example4    # Will list all the items in a set in an unordered fashion"
   ]
  },
  {
   "cell_type": "code",
   "execution_count": null,
   "metadata": {},
   "outputs": [],
   "source": [
    "# Adding another element 42 does nothing because 42 is present already\n",
    "example4.add(42)\n",
    "\n",
    "example4    # Nothing changes"
   ]
  },
  {
   "cell_type": "code",
   "execution_count": null,
   "metadata": {},
   "outputs": [],
   "source": [
    "# Displaying the number of elements in a set\n",
    "\n",
    "print('The length of set example4 is:', len(example4))"
   ]
  },
  {
   "cell_type": "code",
   "execution_count": null,
   "metadata": {},
   "outputs": [],
   "source": [
    "# Examining the remove function for a set\n",
    "print(help(example4.remove))"
   ]
  },
  {
   "cell_type": "code",
   "execution_count": null,
   "metadata": {},
   "outputs": [],
   "source": []
  },
  {
   "cell_type": "code",
   "execution_count": null,
   "metadata": {},
   "outputs": [],
   "source": [
    "#2. you can remove any element of a set using the remove() function\n",
    "example4.remove(False)   # Removes the element 42\n",
    "print('Confirming the removal of element False: ', example4)"
   ]
  },
  {
   "cell_type": "code",
   "execution_count": null,
   "metadata": {},
   "outputs": [],
   "source": [
    "print('Content of set example4',example4)"
   ]
  },
  {
   "cell_type": "code",
   "execution_count": null,
   "metadata": {},
   "outputs": [],
   "source": [
    "# Trying to remove an element that is not present will throw an error\n",
    "example4.remove('Tony')"
   ]
  },
  {
   "cell_type": "code",
   "execution_count": null,
   "metadata": {},
   "outputs": [],
   "source": [
    "# To remove elements that is not present without experiencing error, use the discard method\n",
    "print(help(example4.discard))"
   ]
  },
  {
   "cell_type": "code",
   "execution_count": null,
   "metadata": {},
   "outputs": [],
   "source": [
    "# Using the discard method (Always recommended)\n",
    "example4.discard('Tony') # Nothing will happen\n",
    "print('discard() function works without error')"
   ]
  },
  {
   "cell_type": "code",
   "execution_count": null,
   "metadata": {},
   "outputs": [],
   "source": [
    "# One can create a set by populating it with a list\n",
    "example5 = set(['Chm', 3.14159, 42, 'Carbon', 50, 'Isaac', 'Carbon'])\n",
    "\n",
    "print(example5)"
   ]
  },
  {
   "cell_type": "code",
   "execution_count": null,
   "metadata": {},
   "outputs": [],
   "source": [
    "help(example5.pop)"
   ]
  },
  {
   "cell_type": "code",
   "execution_count": null,
   "metadata": {},
   "outputs": [],
   "source": [
    "# pop() function removes a first element from the list\n",
    "print('content of example5 before pop() function:',example5)\n",
    "print('Poping the value: ', example5.pop())\n",
    "print('content of example5 after pop() function:',example5)"
   ]
  },
  {
   "cell_type": "code",
   "execution_count": null,
   "metadata": {},
   "outputs": [],
   "source": [
    "# You can delete every element in a set using the clear method\n",
    "print('content of example5 before clear() function:',example5)\n",
    "example5.clear()\n",
    "print('content of example5 after clear() function:',example5)"
   ]
  },
  {
   "cell_type": "code",
   "execution_count": null,
   "metadata": {},
   "outputs": [],
   "source": [
    "# Doing mathematical operations with Sets\n",
    "# Examining the integers from 1 to 10\n",
    "odds = set([1, 3, 5, 7, 9])\n",
    "evens = set([2, 4, 6, 8, 10])\n",
    "primes = set([2, 3, 5, 7])\n",
    "composites = {4, 6, 8, 9, 10}\n",
    "\n",
    "print('The union of odds and evens is: ', odds.union(evens))\n",
    "print('The intersection of odds and prime is: ', evens.intersection(primes))\n",
    "print('The intersection of primes and evens is: ', primes.intersection(evens))\n",
    "print('The intersection of odds and evens is: ', odds.intersection(evens))\n",
    "print('The union of primes and composites is: ', primes.union(composites))"
   ]
  },
  {
   "cell_type": "code",
   "execution_count": null,
   "metadata": {},
   "outputs": [],
   "source": [
    "# How to check if an element is in a set => We use the 'in' operator\n",
    "print('2 is a prime number: ', 2 in primes) # It will return true\n",
    "print('6 is an odd number: ', 6 in odds) # It will return false\n",
    "print('9 is not an even number: ', 9 not in evens) # It will return true"
   ]
  },
  {
   "cell_type": "code",
   "execution_count": null,
   "metadata": {},
   "outputs": [],
   "source": []
  },
  {
   "cell_type": "code",
   "execution_count": null,
   "metadata": {},
   "outputs": [],
   "source": [
    "# DICTIONARIES IN PYTHON\n",
    "# Dictionaries is the equivalent of the standard data structure in computer\n",
    "# science called 'associative array' which is also known as 'map'.\n",
    "# Dictionaries are used when you have a key/value pairs of data- a input\n",
    "# which is mapped to an output."
   ]
  },
  {
   "cell_type": "code",
   "execution_count": null,
   "metadata": {},
   "outputs": [],
   "source": [
    "# Let us a create a dictionary for a chat application containing the\n",
    "# details user_id, message, language, location and date.\n",
    "\n",
    "post = {'user_id':209, 'message':' I love CHM Platform', 'language':'English',\n",
    "       'datetime':'09-04-2022 17:35', 'location':'United Kingdom'}\n",
    "# In Python inputs are called key while output are called values\n",
    "print('Post is a data type:', type(post))\n",
    "\n",
    "# Dictionary key/value pairs can be created using the dict constructor\n",
    "post2 = dict(message = 'I love CHM platform', language='English')\n",
    "print('post2 contains:',post2)\n"
   ]
  },
  {
   "cell_type": "code",
   "execution_count": null,
   "metadata": {},
   "outputs": [],
   "source": []
  },
  {
   "cell_type": "code",
   "execution_count": null,
   "metadata": {},
   "outputs": [],
   "source": [
    "# With Dictionaries, you can add, pop, remove, clear and update any key/value elements.\n",
    "# THAT IS WHY DICTIONARIES ARE MUTABLE DATA STRUCTURES"
   ]
  },
  {
   "cell_type": "code",
   "execution_count": null,
   "metadata": {},
   "outputs": [],
   "source": [
    "print('post2 originally contains:',post2)\n",
    "\n",
    "#1. you can add key/value pairs to a dictionary\n",
    "# Key/Value pairs can be assigned normally\n",
    "post2['user_id'] = 124\n",
    "post2['datetime'] = '23-02-2021 12:35'\n",
    "print('post2 now contains:', post2)\n"
   ]
  },
  {
   "cell_type": "code",
   "execution_count": null,
   "metadata": {},
   "outputs": [],
   "source": []
  },
  {
   "cell_type": "code",
   "execution_count": null,
   "metadata": {},
   "outputs": [],
   "source": [
    "# one way to create empty dictionary\n",
    "my_dict = {}\n",
    "type(my_dict)"
   ]
  },
  {
   "cell_type": "code",
   "execution_count": null,
   "metadata": {},
   "outputs": [],
   "source": [
    "# another way to create an empty dictionary\n",
    "dict_example = dict()\n",
    "type(dict_example)"
   ]
  },
  {
   "cell_type": "code",
   "execution_count": null,
   "metadata": {},
   "outputs": [],
   "source": [
    "print(\">>>AVAILABLE DICTIONARY FUNCTIONS/METHODS<<\\n\")\n",
    "dict_methods = [x  for x in (dir(dict_example)) if x[0] != '_' ]\n",
    "print(dict_methods)"
   ]
  },
  {
   "cell_type": "code",
   "execution_count": null,
   "metadata": {},
   "outputs": [],
   "source": [
    "# Method\tDescription\n",
    "# clear()\tRemoves all the elements from the dictionary\n",
    "# copy()\tReturns a copy of the dictionary\n",
    "# fromkeys()\tReturns a dictionary with the specified keys and value\n",
    "# get()\tReturns the value of the specified key\n",
    "# items()\tReturns a list containing a tuple for each key value pair\n",
    "# keys()\tReturns a list containing the dictionary's keys\n",
    "# pop()\tRemoves the element with the specified key\n",
    "# popitem()\tRemoves the last inserted key-value pair\n",
    "# setdefault()\tReturns the value of the specified key. If the key does not exist: insert the key, with the specified value\n",
    "# update()\tUpdates the dictionary with the specified key-value pairs\n",
    "# values()\tReturns a list of all the values in the dictionary"
   ]
  },
  {
   "cell_type": "code",
   "execution_count": null,
   "metadata": {},
   "outputs": [],
   "source": [
    "post2"
   ]
  },
  {
   "cell_type": "code",
   "execution_count": null,
   "metadata": {},
   "outputs": [],
   "source": [
    "# Returning all the keys in post2\n",
    "post2.keys()"
   ]
  },
  {
   "cell_type": "code",
   "execution_count": null,
   "metadata": {},
   "outputs": [],
   "source": [
    "# Returning all the values in post2\n",
    "post2.values()"
   ]
  },
  {
   "cell_type": "code",
   "execution_count": null,
   "metadata": {},
   "outputs": [],
   "source": [
    "# Returning the keys, values pairs in the dictionary in form of tuples\n",
    "post2.items()"
   ]
  },
  {
   "cell_type": "code",
   "execution_count": null,
   "metadata": {},
   "outputs": [],
   "source": []
  },
  {
   "cell_type": "code",
   "execution_count": null,
   "metadata": {},
   "outputs": [],
   "source": [
    "# Accessing values attached to a key\n",
    "print('Value in message for post:', post2['message'])"
   ]
  },
  {
   "cell_type": "code",
   "execution_count": null,
   "metadata": {},
   "outputs": [],
   "source": [
    "# Accessing values with no key will throw an error\n",
    "print('Value in location for post2:', post2['location'])"
   ]
  },
  {
   "cell_type": "code",
   "execution_count": null,
   "metadata": {},
   "outputs": [],
   "source": [
    "# Key Error can be avoided by using the in operator\n",
    "if ('location' in post2):\n",
    "    print(post2['location'])\n",
    "else:\n",
    "    print('The post does not contain a location value.')"
   ]
  },
  {
   "cell_type": "code",
   "execution_count": null,
   "metadata": {},
   "outputs": [],
   "source": [
    "# You can use the try/except block. More on it later in the course\n",
    "try:\n",
    "    print('Value in location for post2:', post2['location'])\n",
    "except KeyError:\n",
    "    print('The post does not contain a location value. Thanks')"
   ]
  },
  {
   "cell_type": "code",
   "execution_count": null,
   "metadata": {},
   "outputs": [],
   "source": [
    "# Examining how to use one of the method, e.g the get method\n",
    "print(help(post2.get))"
   ]
  },
  {
   "cell_type": "code",
   "execution_count": null,
   "metadata": {},
   "outputs": [],
   "source": [
    "# The getmethod will return None if the value is not present\n",
    "loc = post2.get('location', None)\n",
    "print(loc)"
   ]
  },
  {
   "cell_type": "code",
   "execution_count": null,
   "metadata": {},
   "outputs": [],
   "source": [
    "# The getmethod will return None if the value is not present\n",
    "loc = post2.get('message', None)\n",
    "print(loc)"
   ]
  },
  {
   "cell_type": "code",
   "execution_count": null,
   "metadata": {},
   "outputs": [],
   "source": [
    "# Iterating over the keys in a dictionary and returning the value pairs\n",
    "for key in post.keys():\n",
    "    value = post[key]\n",
    "    print(key, '=', value)"
   ]
  },
  {
   "cell_type": "code",
   "execution_count": null,
   "metadata": {},
   "outputs": [],
   "source": [
    "# Items method can also be used to iterate over a dictionary\n",
    "for key, value in post2.items():\n",
    "    print(key, '=', value)"
   ]
  },
  {
   "cell_type": "code",
   "execution_count": null,
   "metadata": {},
   "outputs": [],
   "source": [
    "#2. You can use update() function to change a particular value of a key\n",
    "print('post before update() function',post)\n",
    "print(post.update({'message':'CHM now teaches SQL using MySQL'}))# changes the content of message key\n",
    "print('post after update() function',post)"
   ]
  },
  {
   "cell_type": "code",
   "execution_count": null,
   "metadata": {},
   "outputs": [],
   "source": [
    "print(help(post2.update))"
   ]
  },
  {
   "cell_type": "code",
   "execution_count": null,
   "metadata": {},
   "outputs": [],
   "source": [
    "#2. You can also use the update() function to add a new key and value to a dictionary\n",
    "print('post before update() function',post2)\n",
    "print(post2.update({'class':'Knowledge Class'})) # creates new key and value\n",
    "print('post after update() function',post2)"
   ]
  },
  {
   "cell_type": "code",
   "execution_count": null,
   "metadata": {},
   "outputs": [],
   "source": []
  },
  {
   "cell_type": "code",
   "execution_count": null,
   "metadata": {},
   "outputs": [],
   "source": [
    "# Should we try those three methods: pop, popitem, and clear ?"
   ]
  },
  {
   "cell_type": "code",
   "execution_count": null,
   "metadata": {},
   "outputs": [],
   "source": [
    "print(help(post2.pop))"
   ]
  },
  {
   "cell_type": "code",
   "execution_count": null,
   "metadata": {},
   "outputs": [],
   "source": [
    "#3. You can use pop() function to remove a particular key and values\n",
    "print('post2 before pop() function',post2)\n",
    "print(post2.pop('message'))\n",
    "print('post2 after pop() function',post2)"
   ]
  },
  {
   "cell_type": "code",
   "execution_count": null,
   "metadata": {},
   "outputs": [],
   "source": [
    "print(help(post2.popitem))"
   ]
  },
  {
   "cell_type": "code",
   "execution_count": null,
   "metadata": {},
   "outputs": [],
   "source": [
    "#4. You can use popitem() function to remove the last key and value\n",
    "print('post2 before popitem() function',post2)\n",
    "print(post2.popitem())# Removes the key and value of the last item in a dictionary\n",
    "print('post2 after popitem() function',post2)"
   ]
  },
  {
   "cell_type": "code",
   "execution_count": null,
   "metadata": {},
   "outputs": [],
   "source": [
    "# Exploring other useful methods in the dict class\n",
    "print(dir(post2))\n",
    "# The 'clear' method is used to clear contents in the dictionary"
   ]
  },
  {
   "cell_type": "code",
   "execution_count": null,
   "metadata": {},
   "outputs": [],
   "source": []
  },
  {
   "cell_type": "markdown",
   "metadata": {},
   "source": [
    "## Practical application of Dictionary"
   ]
  },
  {
   "cell_type": "code",
   "execution_count": null,
   "metadata": {},
   "outputs": [],
   "source": [
    "# Practical application of Dictionary\n",
    "# It can be used to store personal details and then saved in json file"
   ]
  },
  {
   "cell_type": "code",
   "execution_count": null,
   "metadata": {},
   "outputs": [],
   "source": [
    "student_records = {}\n",
    "student_records['sam'] = {\n",
    "    'firstname':'Sam',\n",
    "    'surname': \"Joe\",\n",
    "    'class': 'Knowledge class',\n",
    "    'email': 'sam_joe@gmail.com',\n",
    "    'location': 'Botswana'\n",
    "}\n",
    "student_records['john'] = {\n",
    "    'firstname':'John',\n",
    "    'surname': \"Dave\",\n",
    "    'class': 'Favour class'\n",
    "}"
   ]
  },
  {
   "cell_type": "code",
   "execution_count": null,
   "metadata": {},
   "outputs": [],
   "source": [
    "student_records"
   ]
  },
  {
   "cell_type": "code",
   "execution_count": null,
   "metadata": {},
   "outputs": [],
   "source": [
    "student_records['john']['email'] = 'jdave@gmail.com'\n",
    "student_records['john']['location'] = 'Kenya'"
   ]
  },
  {
   "cell_type": "code",
   "execution_count": null,
   "metadata": {},
   "outputs": [],
   "source": [
    "student_records"
   ]
  },
  {
   "cell_type": "code",
   "execution_count": null,
   "metadata": {},
   "outputs": [],
   "source": [
    "#importing the json module\n",
    "import json\n",
    "records = json.dumps(student_records)\n",
    "records"
   ]
  },
  {
   "cell_type": "code",
   "execution_count": null,
   "metadata": {},
   "outputs": [],
   "source": [
    "# store the records to a file\n",
    "with open('student_records.txt','w') as file:\n",
    "    file.write(records)\n",
    "print('File: student_record.txt saved successfully..')"
   ]
  },
  {
   "cell_type": "code",
   "execution_count": null,
   "metadata": {},
   "outputs": [],
   "source": []
  },
  {
   "cell_type": "code",
   "execution_count": null,
   "metadata": {},
   "outputs": [],
   "source": [
    "# Reading the json file\n",
    "with open('student_records.txt','r') as file:\n",
    "    read_file = file.read()\n",
    "print('File: student_record.txt read successfully..')"
   ]
  },
  {
   "cell_type": "code",
   "execution_count": null,
   "metadata": {},
   "outputs": [],
   "source": [
    "type(read_file)"
   ]
  },
  {
   "cell_type": "code",
   "execution_count": null,
   "metadata": {},
   "outputs": [],
   "source": [
    "print(read_file)"
   ]
  },
  {
   "cell_type": "code",
   "execution_count": null,
   "metadata": {},
   "outputs": [],
   "source": [
    "#convert it to a dictionary\n",
    "import json\n",
    "dict_studentrecords = json.loads(read_file)\n",
    "dict_studentrecords"
   ]
  },
  {
   "cell_type": "code",
   "execution_count": null,
   "metadata": {},
   "outputs": [],
   "source": [
    "type(dict_studentrecords)"
   ]
  },
  {
   "cell_type": "code",
   "execution_count": null,
   "metadata": {},
   "outputs": [],
   "source": [
    "dict_studentrecords['john']"
   ]
  },
  {
   "cell_type": "code",
   "execution_count": null,
   "metadata": {},
   "outputs": [],
   "source": [
    "dict_studentrecords['john']['email']"
   ]
  },
  {
   "cell_type": "code",
   "execution_count": null,
   "metadata": {},
   "outputs": [],
   "source": []
  },
  {
   "cell_type": "code",
   "execution_count": null,
   "metadata": {},
   "outputs": [],
   "source": [
    "# Extra Programming tips for you to ponder"
   ]
  },
  {
   "cell_type": "code",
   "execution_count": null,
   "metadata": {},
   "outputs": [],
   "source": [
    "count = 29\n",
    "while count >  15:\n",
    "    print (count)\n",
    "    count -= 2\n",
    "    if count % 19 == 0:\n",
    "        break\n",
    " "
   ]
  },
  {
   "cell_type": "code",
   "execution_count": null,
   "metadata": {},
   "outputs": [],
   "source": [
    "import cmath\n",
    "def quadratic_Equation(a,b,c):\n",
    "    ''' This function solves a Quadratic equation with inputs a, b, c'''\n",
    "   \n",
    "    D = b**2 - 4*a*c\n",
    "    X1 = (-b + cmath.sqrt(D))/2*a\n",
    "    X2 = (-b - cmath.sqrt(D))/2*a\n",
    "    \n",
    "    return X1,X2\n",
    "quadratic_Equation(1,1,-6)\n",
    "    "
   ]
  },
  {
   "cell_type": "code",
   "execution_count": null,
   "metadata": {},
   "outputs": [],
   "source": [
    "for num in range(11,20,2):\n",
    "    print(num)"
   ]
  },
  {
   "cell_type": "code",
   "execution_count": null,
   "metadata": {},
   "outputs": [],
   "source": [
    "for num in range(10,20):\n",
    "    if num % 2 == 1:\n",
    "        print(num)"
   ]
  },
  {
   "cell_type": "code",
   "execution_count": null,
   "metadata": {},
   "outputs": [],
   "source": [
    "num = 11\n",
    "while num <= 20:\n",
    "    print(num)\n",
    "    num = num + 2\n"
   ]
  },
  {
   "cell_type": "code",
   "execution_count": null,
   "metadata": {},
   "outputs": [],
   "source": [
    "num = 10\n",
    "while num <= 20:\n",
    "    if num % 2 == 1:\n",
    "        print(num)\n",
    "    num = num + 1"
   ]
  },
  {
   "cell_type": "code",
   "execution_count": null,
   "metadata": {},
   "outputs": [],
   "source": []
  }
 ],
 "metadata": {
  "kernelspec": {
   "display_name": "Python 3 (ipykernel)",
   "language": "python",
   "name": "python3"
  },
  "language_info": {
   "codemirror_mode": {
    "name": "ipython",
    "version": 3
   },
   "file_extension": ".py",
   "mimetype": "text/x-python",
   "name": "python",
   "nbconvert_exporter": "python",
   "pygments_lexer": "ipython3",
   "version": "3.12.0"
  }
 },
 "nbformat": 4,
 "nbformat_minor": 4
}
