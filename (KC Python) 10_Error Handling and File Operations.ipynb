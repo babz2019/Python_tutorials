{
 "cells": [
  {
   "cell_type": "code",
   "execution_count": null,
   "id": "4c1796f8-d464-4e18-9276-6549b85b0843",
   "metadata": {},
   "outputs": [],
   "source": [
    "# ERRORS/EXCEPTIONS IN PYTHON\n",
    "\n",
    "# When Python encounters an error while running your code, it stops execution\n",
    "# and raises an exception.\n",
    "# An Exception in Python is an object with a description of what went wrong and a\n",
    "# a traceback of where the problem occurred."
   ]
  },
  {
   "cell_type": "code",
   "execution_count": null,
   "id": "421e5bf4-ec24-4a37-b652-5136e205679a",
   "metadata": {},
   "outputs": [],
   "source": [
    "# Common Types of Exception in Python"
   ]
  },
  {
   "cell_type": "code",
   "execution_count": 2,
   "id": "1aa1b007",
   "metadata": {},
   "outputs": [
    {
     "name": "stdout",
     "output_type": "stream",
     "text": [
      "0\n",
      "1\n",
      "2\n",
      "3\n",
      "4\n"
     ]
    }
   ],
   "source": [
    "# 1. Syntax Errror\n",
    "\n",
    "for num in range(5) # for, while loop, if, elif, else must end with a colon (:)\n",
    "    print(num)"
   ]
  },
  {
   "cell_type": "code",
   "execution_count": 4,
   "id": "6e818f4d",
   "metadata": {},
   "outputs": [
    {
     "name": "stdout",
     "output_type": "stream",
     "text": [
      "25\n"
     ]
    }
   ],
   "source": [
    "#2. NameError\n",
    "my_num = 5\n",
    "my_square = My_num**2\n",
    "print(my_square)"
   ]
  },
  {
   "cell_type": "code",
   "execution_count": 6,
   "id": "d5c7a41d",
   "metadata": {},
   "outputs": [
    {
     "name": "stdout",
     "output_type": "stream",
     "text": [
      "my_num is even\n"
     ]
    }
   ],
   "source": [
    "#3. Indentation Error\n",
    "my_num: int\n",
    "my_num = 4\n",
    "if (my_num % 2 == 0): # codes under a code ending with a colon must be indented\n",
    "print('my_num is even')"
   ]
  },
  {
   "cell_type": "code",
   "execution_count": null,
   "id": "8154141d",
   "metadata": {},
   "outputs": [],
   "source": [
    "#4. AttributeError\n",
    "# Using functions or methods not applicable to a datatype or data structure"
   ]
  },
  {
   "cell_type": "code",
   "execution_count": 8,
   "id": "99d5bf4e",
   "metadata": {},
   "outputs": [
    {
     "name": "stdout",
     "output_type": "stream",
     "text": [
      "[4, 'jan', 5.99, 100]\n"
     ]
    }
   ],
   "source": [
    "# Using add for list variable\n",
    "my_list = [4, 'jan', 5.99]\n",
    "my_list.add(100)            # add() method is used for set data structure, use append() for list\n",
    "print(my_list)"
   ]
  },
  {
   "cell_type": "code",
   "execution_count": 9,
   "id": "01dbc32d-ea96-4e98-8545-e52ebde5971c",
   "metadata": {},
   "outputs": [
    {
     "data": {
      "text/plain": [
       "'C:\\\\Users\\\\Dr_Sam\\\\Desktop\\\\CHM SESSION JULY-NOV 2023\\\\KNOWLEDGE CLASS\\\\04_CHM KC PYTHON LECTURES\\\\Python Lectures Notebook'"
      ]
     },
     "execution_count": 9,
     "metadata": {},
     "output_type": "execute_result"
    }
   ],
   "source": [
    "pwd"
   ]
  },
  {
   "cell_type": "code",
   "execution_count": 10,
   "id": "1050297c-bb5a-42fc-b2ee-ab4df17d7659",
   "metadata": {},
   "outputs": [
    {
     "ename": "FileNotFoundError",
     "evalue": "[Errno 2] No such file or directory: 'fake_file.txt'",
     "output_type": "error",
     "traceback": [
      "\u001b[1;31m---------------------------------------------------------------------------\u001b[0m",
      "\u001b[1;31mFileNotFoundError\u001b[0m                         Traceback (most recent call last)",
      "Cell \u001b[1;32mIn[10], line 2\u001b[0m\n\u001b[0;32m      1\u001b[0m \u001b[38;5;66;03m#5. FileNotFoundError\u001b[39;00m\n\u001b[1;32m----> 2\u001b[0m \u001b[38;5;28;01mwith\u001b[39;00m \u001b[38;5;28;43mopen\u001b[39;49m\u001b[43m(\u001b[49m\u001b[38;5;124;43m'\u001b[39;49m\u001b[38;5;124;43mfake_file.txt\u001b[39;49m\u001b[38;5;124;43m'\u001b[39;49m\u001b[43m)\u001b[49m \u001b[38;5;28;01mas\u001b[39;00m file:\n\u001b[0;32m      3\u001b[0m     secret \u001b[38;5;241m=\u001b[39m file\u001b[38;5;241m.\u001b[39mread()\n\u001b[0;32m      4\u001b[0m \u001b[38;5;28mprint\u001b[39m(secret)\n",
      "File \u001b[1;32m~\\AppData\\Local\\Programs\\Python\\Python312\\Lib\\site-packages\\IPython\\core\\interactiveshell.py:308\u001b[0m, in \u001b[0;36m_modified_open\u001b[1;34m(file, *args, **kwargs)\u001b[0m\n\u001b[0;32m    301\u001b[0m \u001b[38;5;28;01mif\u001b[39;00m file \u001b[38;5;129;01min\u001b[39;00m {\u001b[38;5;241m0\u001b[39m, \u001b[38;5;241m1\u001b[39m, \u001b[38;5;241m2\u001b[39m}:\n\u001b[0;32m    302\u001b[0m     \u001b[38;5;28;01mraise\u001b[39;00m \u001b[38;5;167;01mValueError\u001b[39;00m(\n\u001b[0;32m    303\u001b[0m         \u001b[38;5;124mf\u001b[39m\u001b[38;5;124m\"\u001b[39m\u001b[38;5;124mIPython won\u001b[39m\u001b[38;5;124m'\u001b[39m\u001b[38;5;124mt let you open fd=\u001b[39m\u001b[38;5;132;01m{\u001b[39;00mfile\u001b[38;5;132;01m}\u001b[39;00m\u001b[38;5;124m by default \u001b[39m\u001b[38;5;124m\"\u001b[39m\n\u001b[0;32m    304\u001b[0m         \u001b[38;5;124m\"\u001b[39m\u001b[38;5;124mas it is likely to crash IPython. If you know what you are doing, \u001b[39m\u001b[38;5;124m\"\u001b[39m\n\u001b[0;32m    305\u001b[0m         \u001b[38;5;124m\"\u001b[39m\u001b[38;5;124myou can use builtins\u001b[39m\u001b[38;5;124m'\u001b[39m\u001b[38;5;124m open.\u001b[39m\u001b[38;5;124m\"\u001b[39m\n\u001b[0;32m    306\u001b[0m     )\n\u001b[1;32m--> 308\u001b[0m \u001b[38;5;28;01mreturn\u001b[39;00m \u001b[43mio_open\u001b[49m\u001b[43m(\u001b[49m\u001b[43mfile\u001b[49m\u001b[43m,\u001b[49m\u001b[43m \u001b[49m\u001b[38;5;241;43m*\u001b[39;49m\u001b[43margs\u001b[49m\u001b[43m,\u001b[49m\u001b[43m \u001b[49m\u001b[38;5;241;43m*\u001b[39;49m\u001b[38;5;241;43m*\u001b[39;49m\u001b[43mkwargs\u001b[49m\u001b[43m)\u001b[49m\n",
      "\u001b[1;31mFileNotFoundError\u001b[0m: [Errno 2] No such file or directory: 'fake_file.txt'"
     ]
    }
   ],
   "source": [
    "#5. FileNotFoundError\n",
    "with open('fake_file.txt') as file:\n",
    "    secret = file.read()\n",
    "print(secret)\n"
   ]
  },
  {
   "cell_type": "code",
   "execution_count": 11,
   "id": "f6a4aa4a-a4cc-461e-b822-a9ca2a2fe824",
   "metadata": {},
   "outputs": [
    {
     "ename": "TypeError",
     "evalue": "unsupported operand type(s) for +: 'float' and 'str'",
     "output_type": "error",
     "traceback": [
      "\u001b[1;31m---------------------------------------------------------------------------\u001b[0m",
      "\u001b[1;31mTypeError\u001b[0m                                 Traceback (most recent call last)",
      "Cell \u001b[1;32mIn[11], line 2\u001b[0m\n\u001b[0;32m      1\u001b[0m \u001b[38;5;66;03m#6 TypeError\u001b[39;00m\n\u001b[1;32m----> 2\u001b[0m my_sum \u001b[38;5;241m=\u001b[39m \u001b[38;5;241;43m1\u001b[39;49m\u001b[43m \u001b[49m\u001b[38;5;241;43m+\u001b[39;49m\u001b[43m \u001b[49m\u001b[38;5;241;43m2.5\u001b[39;49m\u001b[43m \u001b[49m\u001b[38;5;241;43m+\u001b[39;49m\u001b[43m \u001b[49m\u001b[38;5;124;43m'\u001b[39;49m\u001b[38;5;124;43mthree\u001b[39;49m\u001b[38;5;124;43m'\u001b[39;49m\n\u001b[0;32m      3\u001b[0m \u001b[38;5;28mprint\u001b[39m(my_sum)\n",
      "\u001b[1;31mTypeError\u001b[0m: unsupported operand type(s) for +: 'float' and 'str'"
     ]
    }
   ],
   "source": [
    "#6 TypeError\n",
    "my_sum = 1 + 2.5 + 'three'\n",
    "print(my_sum)"
   ]
  },
  {
   "cell_type": "code",
   "execution_count": 12,
   "id": "c9655eba-13bb-42ea-b36b-ed4f5801e4c7",
   "metadata": {},
   "outputs": [
    {
     "ename": "ValueError",
     "evalue": "math domain error",
     "output_type": "error",
     "traceback": [
      "\u001b[1;31m---------------------------------------------------------------------------\u001b[0m",
      "\u001b[1;31mValueError\u001b[0m                                Traceback (most recent call last)",
      "Cell \u001b[1;32mIn[12], line 4\u001b[0m\n\u001b[0;32m      2\u001b[0m \u001b[38;5;28;01mimport\u001b[39;00m \u001b[38;5;21;01mmath\u001b[39;00m\n\u001b[0;32m      3\u001b[0m my_val \u001b[38;5;241m=\u001b[39m \u001b[38;5;241m-\u001b[39m\u001b[38;5;241m16\u001b[39m\n\u001b[1;32m----> 4\u001b[0m result \u001b[38;5;241m=\u001b[39m \u001b[43mmath\u001b[49m\u001b[38;5;241;43m.\u001b[39;49m\u001b[43msqrt\u001b[49m\u001b[43m(\u001b[49m\u001b[43mmy_val\u001b[49m\u001b[43m)\u001b[49m \u001b[38;5;66;03m# type is correct, but value is wrong. use cmath module to perform the calculation\u001b[39;00m\n\u001b[0;32m      5\u001b[0m \u001b[38;5;28mprint\u001b[39m(result)\n",
      "\u001b[1;31mValueError\u001b[0m: math domain error"
     ]
    }
   ],
   "source": [
    "#7. ValueError\n",
    "import math\n",
    "my_val = -16\n",
    "result = math.sqrt(my_val) # type is correct, but value is wrong. use cmath module to perform the calculation\n",
    "print(result)"
   ]
  },
  {
   "cell_type": "code",
   "execution_count": 13,
   "id": "13292e04",
   "metadata": {},
   "outputs": [
    {
     "ename": "IndexError",
     "evalue": "list index out of range",
     "output_type": "error",
     "traceback": [
      "\u001b[1;31m---------------------------------------------------------------------------\u001b[0m",
      "\u001b[1;31mIndexError\u001b[0m                                Traceback (most recent call last)",
      "Cell \u001b[1;32mIn[13], line 3\u001b[0m\n\u001b[0;32m      1\u001b[0m \u001b[38;5;66;03m#8. IndexError\u001b[39;00m\n\u001b[0;32m      2\u001b[0m my_list \u001b[38;5;241m=\u001b[39m [\u001b[38;5;241m4\u001b[39m, \u001b[38;5;241m3\u001b[39m, \u001b[38;5;241m5\u001b[39m, \u001b[38;5;241m2\u001b[39m] \u001b[38;5;66;03m# contains only index 0, 1, 2, 3 for list, and tuples\u001b[39;00m\n\u001b[1;32m----> 3\u001b[0m \u001b[38;5;28mprint\u001b[39m(\u001b[43mmy_list\u001b[49m\u001b[43m[\u001b[49m\u001b[38;5;241;43m5\u001b[39;49m\u001b[43m]\u001b[49m)\n",
      "\u001b[1;31mIndexError\u001b[0m: list index out of range"
     ]
    }
   ],
   "source": [
    "#8. IndexError\n",
    "my_list = [4, 3, 5, 2] # contains only index 0, 1, 2, 3 for list, and tuples\n",
    "print(my_list[5])"
   ]
  },
  {
   "cell_type": "code",
   "execution_count": 14,
   "id": "628341a7",
   "metadata": {},
   "outputs": [
    {
     "ename": "KeyError",
     "evalue": "'age'",
     "output_type": "error",
     "traceback": [
      "\u001b[1;31m---------------------------------------------------------------------------\u001b[0m",
      "\u001b[1;31mKeyError\u001b[0m                                  Traceback (most recent call last)",
      "Cell \u001b[1;32mIn[14], line 3\u001b[0m\n\u001b[0;32m      1\u001b[0m \u001b[38;5;66;03m#9. KeyError\u001b[39;00m\n\u001b[0;32m      2\u001b[0m my_dict \u001b[38;5;241m=\u001b[39m {\u001b[38;5;124m'\u001b[39m\u001b[38;5;124mname\u001b[39m\u001b[38;5;124m'\u001b[39m: \u001b[38;5;124m'\u001b[39m\u001b[38;5;124mSam\u001b[39m\u001b[38;5;124m'\u001b[39m, \u001b[38;5;124m'\u001b[39m\u001b[38;5;124mstatus\u001b[39m\u001b[38;5;124m'\u001b[39m: \u001b[38;5;124m'\u001b[39m\u001b[38;5;124mTeacher\u001b[39m\u001b[38;5;124m'\u001b[39m}\n\u001b[1;32m----> 3\u001b[0m \u001b[38;5;28mprint\u001b[39m(\u001b[43mmy_dict\u001b[49m\u001b[43m[\u001b[49m\u001b[38;5;124;43m'\u001b[39;49m\u001b[38;5;124;43mage\u001b[39;49m\u001b[38;5;124;43m'\u001b[39;49m\u001b[43m]\u001b[49m) \u001b[38;5;66;03m#age key not present in the dictionary\u001b[39;00m\n",
      "\u001b[1;31mKeyError\u001b[0m: 'age'"
     ]
    }
   ],
   "source": [
    "#9. KeyError\n",
    "my_dict = {'name': 'Sam', 'status': 'Teacher'}\n",
    "print(my_dict['age']) #age key not present in the dictionary"
   ]
  },
  {
   "cell_type": "code",
   "execution_count": 17,
   "id": "a94b8f11-11b7-4b8f-9746-ff9bb3bae0b5",
   "metadata": {},
   "outputs": [
    {
     "data": {
      "text/plain": [
       "8.0"
      ]
     },
     "execution_count": 17,
     "metadata": {},
     "output_type": "execute_result"
    }
   ],
   "source": [
    "#10. ModuleNotFoundError\n",
    "import Math           # possibly misspelt module\n",
    "Math.sqrt(64)"
   ]
  },
  {
   "cell_type": "code",
   "execution_count": 18,
   "id": "d33cd6c9",
   "metadata": {},
   "outputs": [
    {
     "ename": "ZeroDivisionError",
     "evalue": "division by zero",
     "output_type": "error",
     "traceback": [
      "\u001b[1;31m---------------------------------------------------------------------------\u001b[0m",
      "\u001b[1;31mZeroDivisionError\u001b[0m                         Traceback (most recent call last)",
      "Cell \u001b[1;32mIn[18], line 4\u001b[0m\n\u001b[0;32m      2\u001b[0m numerator \u001b[38;5;241m=\u001b[39m \u001b[38;5;241m5\u001b[39m\n\u001b[0;32m      3\u001b[0m denominator \u001b[38;5;241m=\u001b[39m \u001b[38;5;241m0\u001b[39m\n\u001b[1;32m----> 4\u001b[0m result \u001b[38;5;241m=\u001b[39m \u001b[43mnumerator\u001b[49m\u001b[38;5;241;43m/\u001b[39;49m\u001b[43mdenominator\u001b[49m\n",
      "\u001b[1;31mZeroDivisionError\u001b[0m: division by zero"
     ]
    }
   ],
   "source": [
    "#11. ZeroDivisionError\n",
    "numerator = 5\n",
    "denominator = 0\n",
    "result = numerator/denominator"
   ]
  },
  {
   "cell_type": "code",
   "execution_count": null,
   "id": "4d86a023",
   "metadata": {},
   "outputs": [],
   "source": []
  },
  {
   "cell_type": "code",
   "execution_count": null,
   "id": "7b5bdba9",
   "metadata": {},
   "outputs": [],
   "source": []
  },
  {
   "cell_type": "code",
   "execution_count": null,
   "id": "a793cc9a",
   "metadata": {},
   "outputs": [],
   "source": [
    "# Handling common type of Errors"
   ]
  },
  {
   "cell_type": "code",
   "execution_count": null,
   "id": "3d9c98c0",
   "metadata": {},
   "outputs": [],
   "source": [
    "# General Format:\n",
    "# try:                     used to try in running the problematic code\n",
    "# except exception_type:   used to catch expected exception or the general ones\n",
    "# else:                    only runs when there is no exception or error and is optional\n",
    "# finanlly:                will always run but it is optional"
   ]
  },
  {
   "cell_type": "code",
   "execution_count": 20,
   "id": "b4a10b0d",
   "metadata": {},
   "outputs": [
    {
     "name": "stdout",
     "output_type": "stream",
     "text": [
      "The value of your result is:  3.5\n",
      "\n",
      " End of your program\n"
     ]
    }
   ],
   "source": [
    "# Example 1: Handling the zero division error\n",
    "num: int = 7\n",
    "denom: int = 0\n",
    "try:\n",
    "    result = num / denom\n",
    "except ZeroDivisionError:\n",
    "    print('You cannot divide a number by zero!')\n",
    "else:\n",
    "    print('The value of your result is: ', result)\n",
    "finally:\n",
    "    print('\\n End of your program')"
   ]
  },
  {
   "cell_type": "code",
   "execution_count": 21,
   "id": "ff1efe68",
   "metadata": {},
   "outputs": [
    {
     "name": "stdout",
     "output_type": "stream",
     "text": [
      "The file you are trying to read does not exist\n",
      "\n",
      "Program successful completed\n"
     ]
    }
   ],
   "source": [
    "# Example 2: Handling File not found Error\n",
    "try:\n",
    "    fileobj = open('anyfile.txt', mode='r')\n",
    "    data = fileobj.read()\n",
    "    print(data)\n",
    "except FileNotFoundError:\n",
    "        print('The file you are trying to read does not exist')\n",
    "else:\n",
    "    fileobj.close()\n",
    "finally:\n",
    "    print('\\nProgram successful completed')"
   ]
  },
  {
   "cell_type": "code",
   "execution_count": 23,
   "id": "869b53a3",
   "metadata": {},
   "outputs": [
    {
     "name": "stdout",
     "output_type": "stream",
     "text": [
      "The index 5 is out of range\n",
      "Program ends successfully\n"
     ]
    }
   ],
   "source": [
    "# Example 3: Handling Index Error\n",
    "my_list = [4, 8, 3, 12, 6]\n",
    "index = 5\n",
    "try:\n",
    "    my_list[index] = 25\n",
    "except IndexError:\n",
    "    print(f'The index {index} is out of range')\n",
    "else:\n",
    "    print(f'The value at index {index} is {my_list[index]}')\n",
    "finally:\n",
    "          print('Program ends successfully')"
   ]
  },
  {
   "cell_type": "code",
   "execution_count": 24,
   "id": "0a8b2160",
   "metadata": {},
   "outputs": [
    {
     "name": "stdout",
     "output_type": "stream",
     "text": [
      "The data types are incompartible\n",
      "\n",
      "Program ends successfully\n"
     ]
    }
   ],
   "source": [
    "# Example 4: Handling TypeError\n",
    "num: str\n",
    "divisor: int\n",
    "num = '10'\n",
    "divisor = 2\n",
    "try:\n",
    "    result = num/divisor\n",
    "except TypeError:\n",
    "    print(f'The data types are incompartible')\n",
    "else:\n",
    "    print(f'The result of your calculation is: {result}')\n",
    "finally:\n",
    "          print('\\nProgram ends successfully')"
   ]
  },
  {
   "cell_type": "code",
   "execution_count": 25,
   "id": "0e94be41",
   "metadata": {},
   "outputs": [
    {
     "name": "stdout",
     "output_type": "stream",
     "text": [
      "You cannot evaluate the square root of a negative number\n",
      "\n",
      "Program ends successfully\n"
     ]
    }
   ],
   "source": [
    "# Example 5: Handling ValueError\n",
    "import math\n",
    "num = -64\n",
    "try:\n",
    "    my_sqrt = math.sqrt(num)\n",
    "    \n",
    "except ValueError:\n",
    "    print(f'You cannot evaluate the square root of a negative number')\n",
    "    \n",
    "else:\n",
    "    print(f'The result of your calculation is: {my_sqrt}')\n",
    "    \n",
    "finally:\n",
    "        print('\\nProgram ends successfully')"
   ]
  },
  {
   "cell_type": "code",
   "execution_count": null,
   "id": "de5ff0be",
   "metadata": {},
   "outputs": [],
   "source": []
  },
  {
   "cell_type": "code",
   "execution_count": 28,
   "id": "6084cdbd",
   "metadata": {},
   "outputs": [
    {
     "name": "stdin",
     "output_type": "stream",
     "text": [
      "Type any number:  one\n"
     ]
    },
    {
     "name": "stdout",
     "output_type": "stream",
     "text": [
      "Incompartible datatype has been inputed\n"
     ]
    }
   ],
   "source": [
    "try:\n",
    "    num = int(input('Type any number: '))\n",
    "    result = num/5\n",
    "except TypeError:\n",
    "    print('Please, it is not possible to use an input without conversion')\n",
    "except ValueError:\n",
    "    print('Incompartible datatype has been inputed')\n",
    "else:\n",
    "    print(result)"
   ]
  },
  {
   "cell_type": "code",
   "execution_count": null,
   "id": "af8802ab",
   "metadata": {},
   "outputs": [],
   "source": []
  },
  {
   "cell_type": "code",
   "execution_count": null,
   "id": "aa988a2e-b218-4a7c-a865-a1c6240cfcf6",
   "metadata": {},
   "outputs": [],
   "source": [
    "# File Operations in Python"
   ]
  },
  {
   "cell_type": "code",
   "execution_count": 29,
   "id": "9d24abb6",
   "metadata": {},
   "outputs": [
    {
     "name": "stdout",
     "output_type": "stream",
     "text": [
      "Help on function open in module _io:\n",
      "\n",
      "open(file, mode='r', buffering=-1, encoding=None, errors=None, newline=None, closefd=True, opener=None)\n",
      "    Open file and return a stream.  Raise OSError upon failure.\n",
      "\n",
      "    file is either a text or byte string giving the name (and the path\n",
      "    if the file isn't in the current working directory) of the file to\n",
      "    be opened or an integer file descriptor of the file to be\n",
      "    wrapped. (If a file descriptor is given, it is closed when the\n",
      "    returned I/O object is closed, unless closefd is set to False.)\n",
      "\n",
      "    mode is an optional string that specifies the mode in which the file\n",
      "    is opened. It defaults to 'r' which means open for reading in text\n",
      "    mode.  Other common values are 'w' for writing (truncating the file if\n",
      "    it already exists), 'x' for creating and writing to a new file, and\n",
      "    'a' for appending (which on some Unix systems, means that all writes\n",
      "    append to the end of the file regardless of the current seek position).\n",
      "    In text mode, if encoding is not specified the encoding used is platform\n",
      "    dependent: locale.getencoding() is called to get the current locale encoding.\n",
      "    (For reading and writing raw bytes use binary mode and leave encoding\n",
      "    unspecified.) The available modes are:\n",
      "\n",
      "    ========= ===============================================================\n",
      "    Character Meaning\n",
      "    --------- ---------------------------------------------------------------\n",
      "    'r'       open for reading (default)\n",
      "    'w'       open for writing, truncating the file first\n",
      "    'x'       create a new file and open it for writing\n",
      "    'a'       open for writing, appending to the end of the file if it exists\n",
      "    'b'       binary mode\n",
      "    't'       text mode (default)\n",
      "    '+'       open a disk file for updating (reading and writing)\n",
      "    ========= ===============================================================\n",
      "\n",
      "    The default mode is 'rt' (open for reading text). For binary random\n",
      "    access, the mode 'w+b' opens and truncates the file to 0 bytes, while\n",
      "    'r+b' opens the file without truncation. The 'x' mode implies 'w' and\n",
      "    raises an `FileExistsError` if the file already exists.\n",
      "\n",
      "    Python distinguishes between files opened in binary and text modes,\n",
      "    even when the underlying operating system doesn't. Files opened in\n",
      "    binary mode (appending 'b' to the mode argument) return contents as\n",
      "    bytes objects without any decoding. In text mode (the default, or when\n",
      "    't' is appended to the mode argument), the contents of the file are\n",
      "    returned as strings, the bytes having been first decoded using a\n",
      "    platform-dependent encoding or using the specified encoding if given.\n",
      "\n",
      "    buffering is an optional integer used to set the buffering policy.\n",
      "    Pass 0 to switch buffering off (only allowed in binary mode), 1 to select\n",
      "    line buffering (only usable in text mode), and an integer > 1 to indicate\n",
      "    the size of a fixed-size chunk buffer.  When no buffering argument is\n",
      "    given, the default buffering policy works as follows:\n",
      "\n",
      "    * Binary files are buffered in fixed-size chunks; the size of the buffer\n",
      "      is chosen using a heuristic trying to determine the underlying device's\n",
      "      \"block size\" and falling back on `io.DEFAULT_BUFFER_SIZE`.\n",
      "      On many systems, the buffer will typically be 4096 or 8192 bytes long.\n",
      "\n",
      "    * \"Interactive\" text files (files for which isatty() returns True)\n",
      "      use line buffering.  Other text files use the policy described above\n",
      "      for binary files.\n",
      "\n",
      "    encoding is the name of the encoding used to decode or encode the\n",
      "    file. This should only be used in text mode. The default encoding is\n",
      "    platform dependent, but any encoding supported by Python can be\n",
      "    passed.  See the codecs module for the list of supported encodings.\n",
      "\n",
      "    errors is an optional string that specifies how encoding errors are to\n",
      "    be handled---this argument should not be used in binary mode. Pass\n",
      "    'strict' to raise a ValueError exception if there is an encoding error\n",
      "    (the default of None has the same effect), or pass 'ignore' to ignore\n",
      "    errors. (Note that ignoring encoding errors can lead to data loss.)\n",
      "    See the documentation for codecs.register or run 'help(codecs.Codec)'\n",
      "    for a list of the permitted encoding error strings.\n",
      "\n",
      "    newline controls how universal newlines works (it only applies to text\n",
      "    mode). It can be None, '', '\\n', '\\r', and '\\r\\n'.  It works as\n",
      "    follows:\n",
      "\n",
      "    * On input, if newline is None, universal newlines mode is\n",
      "      enabled. Lines in the input can end in '\\n', '\\r', or '\\r\\n', and\n",
      "      these are translated into '\\n' before being returned to the\n",
      "      caller. If it is '', universal newline mode is enabled, but line\n",
      "      endings are returned to the caller untranslated. If it has any of\n",
      "      the other legal values, input lines are only terminated by the given\n",
      "      string, and the line ending is returned to the caller untranslated.\n",
      "\n",
      "    * On output, if newline is None, any '\\n' characters written are\n",
      "      translated to the system default line separator, os.linesep. If\n",
      "      newline is '' or '\\n', no translation takes place. If newline is any\n",
      "      of the other legal values, any '\\n' characters written are translated\n",
      "      to the given string.\n",
      "\n",
      "    If closefd is False, the underlying file descriptor will be kept open\n",
      "    when the file is closed. This does not work when a file name is given\n",
      "    and must be True in that case.\n",
      "\n",
      "    A custom opener can be used by passing a callable as *opener*. The\n",
      "    underlying file descriptor for the file object is then obtained by\n",
      "    calling *opener* with (*file*, *flags*). *opener* must return an open\n",
      "    file descriptor (passing os.open as *opener* results in functionality\n",
      "    similar to passing None).\n",
      "\n",
      "    open() returns a file object whose type depends on the mode, and\n",
      "    through which the standard file operations such as reading and writing\n",
      "    are performed. When open() is used to open a file in a text mode ('w',\n",
      "    'r', 'wt', 'rt', etc.), it returns a TextIOWrapper. When used to open\n",
      "    a file in a binary mode, the returned class varies: in read binary\n",
      "    mode, it returns a BufferedReader; in write binary and append binary\n",
      "    modes, it returns a BufferedWriter, and in read/write mode, it returns\n",
      "    a BufferedRandom.\n",
      "\n",
      "    It is also possible to use a string or bytearray as a file for both\n",
      "    reading and writing. For strings StringIO can be used like a file\n",
      "    opened in a text mode, and for bytes a BytesIO can be used like a file\n",
      "    opened in a binary mode.\n",
      "\n"
     ]
    }
   ],
   "source": [
    "# Getting help with Open function\n",
    "help(open)"
   ]
  },
  {
   "cell_type": "code",
   "execution_count": null,
   "id": "6232eddf",
   "metadata": {},
   "outputs": [],
   "source": []
  },
  {
   "cell_type": "code",
   "execution_count": 30,
   "id": "114cc5b2-94ef-44ba-8027-6e614ee88748",
   "metadata": {},
   "outputs": [],
   "source": [
    "import os.path\n",
    "from csv import writer, reader"
   ]
  },
  {
   "cell_type": "code",
   "execution_count": 31,
   "id": "06df1a85-8cd8-4d26-b6c3-782bc8d89f59",
   "metadata": {},
   "outputs": [
    {
     "data": {
      "text/plain": [
       "'C:\\\\Users\\\\Dr_Sam\\\\Desktop\\\\CHM SESSION JULY-NOV 2023\\\\KNOWLEDGE CLASS\\\\04_CHM KC PYTHON LECTURES\\\\Python Lectures Notebook'"
      ]
     },
     "execution_count": 31,
     "metadata": {},
     "output_type": "execute_result"
    }
   ],
   "source": [
    "pwd # Displays the current file directory"
   ]
  },
  {
   "cell_type": "code",
   "execution_count": 33,
   "id": "746e5245-1412-481c-af0d-ffdc1f1ee693",
   "metadata": {},
   "outputs": [
    {
     "name": "stdout",
     "output_type": "stream",
     "text": [
      "The file with the required header exists already!\n"
     ]
    }
   ],
   "source": [
    "# Creating CSV file with Header row in python\n",
    "file_name = \"CHM Students Records.csv\"\n",
    "file_exists = os.path.exists(file_name)\n",
    "\n",
    "if(not file_exists):\n",
    "    my_file = open(file_name,\"w\", newline=\"\\n\") # newline is to avoid unnecessary space, \"w\" is for write mode\n",
    "\n",
    "    # Writing the header for our file\n",
    "    my_pen = writer(my_file) # It shows you want to start writing on the file\n",
    "    my_header = [\"S/No\", \"Firstname\", \"Surname\", \"Score\", \"Grade\"]\n",
    "    my_pen.writerow(my_header)\n",
    "    my_file.close() # You must always close your file after every operation\n",
    "\n",
    "    print(\"The file has been created with Header added successfully\")\n",
    "else:\n",
    "    print(\"The file with the required header exists already!\")"
   ]
  },
  {
   "cell_type": "code",
   "execution_count": 34,
   "id": "10820582-61c2-4795-9018-a238a8428249",
   "metadata": {},
   "outputs": [
    {
     "data": {
      "text/plain": [
       "_io.TextIOWrapper"
      ]
     },
     "execution_count": 34,
     "metadata": {},
     "output_type": "execute_result"
    }
   ],
   "source": [
    "type(my_file)"
   ]
  },
  {
   "cell_type": "code",
   "execution_count": 35,
   "id": "38954568",
   "metadata": {},
   "outputs": [
    {
     "data": {
      "text/plain": [
       "'C:\\\\Users\\\\Dr_Sam\\\\Desktop\\\\CHM SESSION JULY-NOV 2023\\\\KNOWLEDGE CLASS\\\\04_CHM KC PYTHON LECTURES\\\\Python Lectures Notebook'"
      ]
     },
     "execution_count": 35,
     "metadata": {},
     "output_type": "execute_result"
    }
   ],
   "source": [
    "pwd"
   ]
  },
  {
   "cell_type": "code",
   "execution_count": 36,
   "id": "01b47762",
   "metadata": {},
   "outputs": [],
   "source": [
    "# Function to track the number of records skipping the header\n",
    "def record_count(input_file):\n",
    "    '''This function track the number of rows in the input_file'''\n",
    "    row_count = -1 # Substracting the header\n",
    "    for rows in open(input_file):\n",
    "        row_count = row_count + 1\n",
    "    return row_count     \n",
    "\n",
    "#Optional way to implement the function\n",
    "def record_count_v2(input_file):\n",
    "    '''This function track the number of rows in the input_file'''\n",
    "    header_row = 1 # for Substracting the header\n",
    "    file = open(input_file)\n",
    "    reader = csv.reader(file)\n",
    "    row_count = len(list(reader)) - header_row\n",
    "    return row_count"
   ]
  },
  {
   "cell_type": "code",
   "execution_count": null,
   "id": "109f10b5",
   "metadata": {},
   "outputs": [],
   "source": []
  },
  {
   "cell_type": "code",
   "execution_count": 37,
   "id": "2185f34f-c4e2-4a94-bba5-83d91d00644c",
   "metadata": {},
   "outputs": [
    {
     "name": "stdout",
     "output_type": "stream",
     "text": [
      "S/No,Firstname,Surname,Score,Grade\n",
      "\n",
      "The file contains 0 record(s)\n"
     ]
    }
   ],
   "source": [
    "# Reading the CSV File you Just Created\n",
    "my_file = open(file_name,\"r\",newline=\"\\n\") # Unneccessary line space will be created, \"r\" is to read\n",
    "my_text = my_file.read()\n",
    "print(my_text)\n",
    "my_file.close()\n",
    "row_count = record_count(file_name)\n",
    "print(f\"The file contains {row_count} record(s)\")"
   ]
  },
  {
   "cell_type": "code",
   "execution_count": null,
   "id": "daf0d9e8",
   "metadata": {},
   "outputs": [],
   "source": []
  },
  {
   "cell_type": "code",
   "execution_count": 38,
   "id": "4f91c5a0-0781-4367-b45d-167397681bf9",
   "metadata": {},
   "outputs": [],
   "source": [
    "# Calculating the grade\n",
    "def grading(score):\n",
    "    '''This function calculates the grade based on the score'''\n",
    "    score = int(score)\n",
    "    if(score <= 0 or score >= 100):  \n",
    "        grade = \"score out of range\"\n",
    "        \n",
    "    if (score >= 70 and score <= 100):\n",
    "        grade = \"Excellent\"\n",
    "    elif(score>=60 and score<=69):\n",
    "         grade = \"Very Good\"\n",
    "    elif(score>=50 and score<=59):\n",
    "           grade = \"Good\"\n",
    "    elif(score>=40 and score<=49):\n",
    "        grade = \"Pass\"\n",
    "    else:\n",
    "        grade = \"Fail\"\n",
    "            \n",
    "    return grade\n",
    "    \n",
    "# Accepting First Inputs to be stored\n",
    "def compile_records():\n",
    "    '''This function accept details and return them with the right grade'''\n",
    "    first_name = input(\"What is your first name?:\")\n",
    "    surname = input(\"What is your surname?:\")\n",
    "    score = input(\"What is the score?:\")\n",
    "    \n",
    "    try:\n",
    "        grade = grading(score)\n",
    "    except ValueError:\n",
    "        print(\"Invalid score input\")\n",
    "        print(\"Try input the score records again\")\n",
    "    \n",
    "        score = input(\"What is the score?:\")\n",
    "        try:\n",
    "            grade = grading(score) \n",
    "        except ValueError:\n",
    "            print('Another invalid input')\n",
    "            score, grade = str(score), \"Invalid\"\n",
    "         \n",
    "    return (first_name, surname, score, grade)\n",
    "    \n",
    "    "
   ]
  },
  {
   "cell_type": "code",
   "execution_count": null,
   "id": "b150628a",
   "metadata": {},
   "outputs": [],
   "source": []
  },
  {
   "cell_type": "code",
   "execution_count": 39,
   "id": "9d05431e",
   "metadata": {},
   "outputs": [
    {
     "name": "stdin",
     "output_type": "stream",
     "text": [
      "What is your first name?: Sam\n",
      "What is your surname?: Joe\n",
      "What is the score?: 70\n"
     ]
    },
    {
     "name": "stdout",
     "output_type": "stream",
     "text": [
      "--------------------------------------------------------------\n",
      "Student record 1 has been successfully added to the file\n"
     ]
    }
   ],
   "source": [
    "# Open the existing excel file for adding your data, \"a\" is for adding/appending\n",
    "file_name = \"CHM Students Records.csv\"\n",
    "my_file = open(file_name,\"a\", newline=\"\\n\") # newline is to avoid unnecessary space\n",
    "# the \"a\" means append which is to open file for adding new records or data\n",
    "\n",
    "# Write the records to the excel file\n",
    "my_pen = writer(my_file) # It shows you want to start writing on the file\n",
    "row_count = record_count(file_name) # Keeping track of the records\n",
    "\n",
    "first_name, surname, score, grade = compile_records()\n",
    "serial_no = row_count + 1 # First serial number of records\n",
    "records = [serial_no, first_name, surname, score, grade]\n",
    "my_pen.writerow(records)\n",
    "my_file.close() # You must always close your file after every operation\n",
    "\n",
    "print(\"--------------------------------------------------------------\")\n",
    "print(f\"Student record {serial_no} has been successfully added to the file\")\n"
   ]
  },
  {
   "cell_type": "code",
   "execution_count": null,
   "id": "d188b6e2",
   "metadata": {},
   "outputs": [],
   "source": []
  },
  {
   "cell_type": "code",
   "execution_count": 40,
   "id": "3ca2779d-75f2-476a-94aa-59961f79d488",
   "metadata": {},
   "outputs": [
    {
     "name": "stdout",
     "output_type": "stream",
     "text": [
      "S/No,Firstname,Surname,Score,Grade\n",
      "1,Sam,Joe,70,Excellent\n",
      "\n",
      "The file contains 1 record(s)\n"
     ]
    }
   ],
   "source": [
    "# Reading the CSV File you Just Created\n",
    "my_file = open(file_name,\"r\",newline=\"\\n\") # Unneccessary line space will be created, \"r\" is to read\n",
    "my_text = my_file.read()\n",
    "print(my_text)\n",
    "my_file.close()\n",
    "row_count = record_count(file_name)\n",
    "print(f\"The file contains {row_count} record(s)\")"
   ]
  },
  {
   "cell_type": "code",
   "execution_count": null,
   "id": "9b7d0857-3ae5-4309-84dc-6e56f939de0a",
   "metadata": {},
   "outputs": [],
   "source": []
  },
  {
   "cell_type": "code",
   "execution_count": 42,
   "id": "92933437-4101-440d-9416-5855dc6c6c9a",
   "metadata": {},
   "outputs": [
    {
     "name": "stdout",
     "output_type": "stream",
     "text": [
      "--------------------------------------------------------------\n"
     ]
    },
    {
     "name": "stdin",
     "output_type": "stream",
     "text": [
      "What is your first name?: Seun\n",
      "What is your surname?: Williams\n",
      "What is the score?: 80\n"
     ]
    },
    {
     "name": "stdout",
     "output_type": "stream",
     "text": [
      "3 record(s) has now been added\n",
      "--------------------------------------------------------------\n"
     ]
    },
    {
     "name": "stdin",
     "output_type": "stream",
     "text": [
      "Do you want to add more record (yes or no)?: yes\n",
      "What is your first name?: Francis\n",
      "What is your surname?: Goodluck\n",
      "What is the score?: 85\n"
     ]
    },
    {
     "name": "stdout",
     "output_type": "stream",
     "text": [
      "4 record(s) has now been added\n",
      "--------------------------------------------------------------\n"
     ]
    },
    {
     "name": "stdin",
     "output_type": "stream",
     "text": [
      "Do you want to add more record (yes or no)?: no\n"
     ]
    },
    {
     "name": "stdout",
     "output_type": "stream",
     "text": [
      "Total of 4 record(s) has now been added to the file\n",
      "The Data input operation has ended successfully\n"
     ]
    }
   ],
   "source": [
    "# Updating or Adding More Records\n",
    "my_file = open(file_name,\"a\", newline=\"\\n\") # newline is to avoid unnecessary space\n",
    "my_pen = writer(my_file)\n",
    "\n",
    "print(\"--------------------------------------------------------------\")\n",
    "# Accepting multiple inputs to be stored in a file using \"while\" loop\n",
    "while True:\n",
    "    first_name, surname, score, grade = compile_records()\n",
    "    row_count = record_count(file_name)\n",
    "    serial_no = row_count + 1\n",
    "    my_pen.writerow([serial_no, first_name, surname, score, grade])\n",
    "    my_file.close()\n",
    "    print(f\"{serial_no} record(s) has now been added\")\n",
    "    print(\"--------------------------------------------------------------\")\n",
    "    \n",
    "    more_input = input(\"Do you want to add more record (yes or no)?:\")\n",
    "    more_input = more_input.lower()\n",
    "    if(more_input == \"yes\"):\n",
    "        my_file = open(file_name,\"a\", newline=\"\\n\") # newline is to avoid unnecessary space\n",
    "        my_pen = writer(my_file)\n",
    "    else:\n",
    "        #serial_no = row_count + 1\n",
    "        print(f\"Total of {serial_no} record(s) has now been added to the file\")\n",
    "        my_file.close()\n",
    "        break\n",
    "\n",
    "print(\"The Data input operation has ended successfully\")"
   ]
  },
  {
   "cell_type": "code",
   "execution_count": null,
   "id": "5d3bae19-38a9-401b-8807-09fb45e9241d",
   "metadata": {},
   "outputs": [],
   "source": []
  },
  {
   "cell_type": "code",
   "execution_count": 43,
   "id": "d2648386-89b0-40e6-afd9-763e06e2c705",
   "metadata": {},
   "outputs": [
    {
     "name": "stdout",
     "output_type": "stream",
     "text": [
      "S/No,Firstname,Surname,Score,Grade\n",
      "1,Sam,Joe,70,Excellent\n",
      "2,Hauwa,Abu,65,Very Good\n",
      "3,Seun,Williams,80,Excellent\n",
      "4,Francis,Goodluck,85,Excellent\n",
      "\n",
      "The file contains 4 record(s)\n"
     ]
    }
   ],
   "source": [
    "# Reading the CSV File you Just Created\n",
    "my_file = open(file_name,\"r\",newline=\"\\n\") # Unneccessary line space will be created, \"r\" is to read\n",
    "my_text = my_file.read()\n",
    "print(my_text)\n",
    "my_file.close()\n",
    "row_count = record_count(file_name)\n",
    "print(f\"The file contains {row_count} record(s)\")"
   ]
  },
  {
   "cell_type": "code",
   "execution_count": null,
   "id": "3b22a289-bfab-48ef-86a1-d22d80f76eba",
   "metadata": {},
   "outputs": [],
   "source": [
    "pwd # Extracting the path of the current folde we are working in at the moment"
   ]
  },
  {
   "cell_type": "code",
   "execution_count": 44,
   "id": "9d68e8dd-ee0d-4b22-a329-e42662286603",
   "metadata": {},
   "outputs": [
    {
     "name": "stdout",
     "output_type": "stream",
     "text": [
      "S/No        Firstname   Surname     Score       Grade       \n",
      "1           Sam         Joe         70          Excellent   \n",
      "2           Hauwa       Abu         65          Very Good   \n",
      "3           Seun        Williams    80          Excellent   \n",
      "4           Francis     Goodluck    85          Excellent   \n",
      "\n",
      "The file contains 4 record(s)\n"
     ]
    }
   ],
   "source": [
    "# Reading an existing excel file for adding your data, \"r\" is for read mode\n",
    "#file_name = \"CHM Students Records.csv\"\n",
    "my_file = open(file_name,\"r\", newline=\"\\n\") # newline is to avoid unnecessary space\n",
    "# the \"r\" means read which is to open file for reading records or data only\n",
    "row_count = record_count(file_name)\n",
    "my_reader = reader(my_file)\n",
    "for every_row in my_reader:\n",
    "    for every_data in every_row:\n",
    "        print(\"{0: <12}\".format(every_data),end=\"\") # print every data on a row\n",
    "        # print(\"\\t\\t|\", every_data, end=\"\")\n",
    "    print() #\n",
    "print()    \n",
    "print(f\"The file contains {row_count} record(s)\")\n",
    "my_file.close()"
   ]
  },
  {
   "cell_type": "code",
   "execution_count": null,
   "id": "900f43b7",
   "metadata": {},
   "outputs": [],
   "source": []
  },
  {
   "cell_type": "code",
   "execution_count": null,
   "id": "600a5e74-6881-4b9f-b783-f6f2db634a86",
   "metadata": {},
   "outputs": [],
   "source": [
    "pwd # An easier way to know the directory(folder) you are running the jupyter lab from"
   ]
  },
  {
   "cell_type": "code",
   "execution_count": 46,
   "id": "ac16cffc-68fd-4ce3-b97c-554d86da1926",
   "metadata": {},
   "outputs": [
    {
     "name": "stdout",
     "output_type": "stream",
     "text": [
      "The file has been created and the Header has been added successfully\n"
     ]
    }
   ],
   "source": [
    "# Creating CSV file and Header row in python in a specified path(folder called apm in my case)\n",
    "\n",
    "file_name2 = \"C:/Users/Dr_Sam/Desktop/Hello File/CHM Students Records v2.csv\"\n",
    "my_file = open(file_name2,\"w\", newline=\"\\n\") # newline is to avoid unnecessary space, \"w\" is to write\n",
    "\n",
    "# Writing the header for our file\n",
    "my_pen = writer(my_file) # It shows you want to start writing on the file\n",
    "my_header = [\"S/No\", \"Firstname\", \"Surname\", \"Score\", \"Grade\"]\n",
    "my_pen.writerow(my_header)\n",
    "my_file.close() # You must always close your file after every operation\n",
    "\n",
    "print(\"The file has been created and the Header has been added successfully\")"
   ]
  },
  {
   "cell_type": "code",
   "execution_count": null,
   "id": "98b61561",
   "metadata": {},
   "outputs": [],
   "source": []
  },
  {
   "cell_type": "code",
   "execution_count": 47,
   "id": "8e6fe1de-5888-4cc7-a160-3689060c3c79",
   "metadata": {},
   "outputs": [
    {
     "name": "stdout",
     "output_type": "stream",
     "text": [
      "The file has been created and the Header has been added successfully\n"
     ]
    }
   ],
   "source": [
    "# Creating Txt file and Header row in python in a specified path(folder called CHM_Data in my case)\n",
    "file_name3 = \"CHM Students Records v3.txt\"\n",
    "\n",
    "my_file = open(file_name3,\"w\", newline=\"\\n\") # newline is to avoid unnecessary space, \"w\" is to write\n",
    "# Writing the header for our file\n",
    "#my_pen = writer(my_file) # It shows you want to start writing on the file\n",
    "my_header = \"My first line of text in this document\" # must be a string\n",
    "my_file.write(my_header)\n",
    "my_file.close() # You must always close your file after every operation\n",
    "\n",
    "print(\"The file has been created and the Header has been added successfully\")"
   ]
  },
  {
   "cell_type": "code",
   "execution_count": null,
   "id": "3d622daf",
   "metadata": {},
   "outputs": [],
   "source": []
  },
  {
   "cell_type": "code",
   "execution_count": null,
   "id": "ff7bac4e-0448-4d68-80c4-a1246ffd1442",
   "metadata": {},
   "outputs": [],
   "source": [
    "# Common types of file extension in programming\n",
    "# docx = microsoft word\n",
    "# txt = notepad/text files\n",
    "# csv = comma separated values file\n",
    "# pdf = portable document format\n",
    "# pptx = MS Powerpoint\n",
    "# xlsx = MS Excel\n",
    "# accdb = MS Access database \n"
   ]
  },
  {
   "cell_type": "code",
   "execution_count": null,
   "id": "3eeb682a",
   "metadata": {},
   "outputs": [],
   "source": []
  },
  {
   "cell_type": "code",
   "execution_count": null,
   "id": "37ac5fdc-c724-4d3f-ac4d-002a5fe4e2fd",
   "metadata": {},
   "outputs": [],
   "source": [
    "# Creating Microsoft Word Document in Python"
   ]
  },
  {
   "cell_type": "code",
   "execution_count": null,
   "id": "3dbe8265",
   "metadata": {},
   "outputs": [],
   "source": [
    "# Install the Word Document module"
   ]
  },
  {
   "cell_type": "code",
   "execution_count": 48,
   "id": "5ef1bfc6-4a84-4ea1-8f89-56107ecd6f4c",
   "metadata": {},
   "outputs": [
    {
     "name": "stdout",
     "output_type": "stream",
     "text": [
      "Collecting python-docx\n",
      "  Downloading python_docx-1.1.0-py3-none-any.whl.metadata (2.0 kB)\n",
      "Requirement already satisfied: lxml>=3.1.0 in c:\\users\\dr_sam\\appdata\\local\\programs\\python\\python312\\lib\\site-packages (from python-docx) (4.9.3)\n",
      "Requirement already satisfied: typing-extensions in c:\\users\\dr_sam\\appdata\\local\\programs\\python\\python312\\lib\\site-packages (from python-docx) (4.8.0)\n",
      "Downloading python_docx-1.1.0-py3-none-any.whl (239 kB)\n",
      "   ---------------------------------------- 0.0/239.6 kB ? eta -:--:--\n",
      "   ---------------------------------------- 0.0/239.6 kB ? eta -:--:--\n",
      "   - -------------------------------------- 10.2/239.6 kB ? eta -:--:--\n",
      "   - -------------------------------------- 10.2/239.6 kB ? eta -:--:--\n",
      "   ----- --------------------------------- 30.7/239.6 kB 187.9 kB/s eta 0:00:02\n",
      "   ---------- ---------------------------- 61.4/239.6 kB 297.7 kB/s eta 0:00:01\n",
      "   ---------------------------------------  235.5/239.6 kB 1.0 MB/s eta 0:00:01\n",
      "   -------------------------------------- 239.6/239.6 kB 816.2 kB/s eta 0:00:00\n",
      "Installing collected packages: python-docx\n",
      "Successfully installed python-docx-1.1.0\n",
      "Note: you may need to restart the kernel to use updated packages.\n"
     ]
    }
   ],
   "source": [
    "pip install python-docx"
   ]
  },
  {
   "cell_type": "code",
   "execution_count": 49,
   "id": "58b0e2f1-014e-42dc-9149-56c6bd880d00",
   "metadata": {},
   "outputs": [],
   "source": [
    "import docx\n",
    "my_doc = docx.Document()\n",
    "my_doc.add_paragraph(\"You are all welcome to CHM Platform!\")\n",
    "my_doc.save(\"CHM_MS_Word_v4.docx\")"
   ]
  },
  {
   "cell_type": "code",
   "execution_count": 51,
   "id": "a4607f70-d1af-4b41-86b6-7cb2ee1c1d92",
   "metadata": {},
   "outputs": [
    {
     "name": "stdout",
     "output_type": "stream",
     "text": [
      "--------------------------\n",
      "Paragraph 0: You are all welcome to CHM Platform!\n",
      "\n",
      "--------------------------\n"
     ]
    }
   ],
   "source": [
    "# Reading the Content of Word Document\n",
    "from docx import *\n",
    "\n",
    "document = Document('CHM_MS_Word_v4.docx')\n",
    "\n",
    "print('--------------------------')\n",
    "for line, paragraphs in enumerate(document.paragraphs):\n",
    "    print(\"Paragraph {}: \".format(line), end='')\n",
    "    print(paragraphs.text)\n",
    "    print()\n",
    "print('--------------------------')"
   ]
  },
  {
   "cell_type": "raw",
   "id": "2e217783",
   "metadata": {},
   "source": []
  }
 ],
 "metadata": {
  "kernelspec": {
   "display_name": "Python 3 (ipykernel)",
   "language": "python",
   "name": "python3"
  },
  "language_info": {
   "codemirror_mode": {
    "name": "ipython",
    "version": 3
   },
   "file_extension": ".py",
   "mimetype": "text/x-python",
   "name": "python",
   "nbconvert_exporter": "python",
   "pygments_lexer": "ipython3",
   "version": "3.12.0"
  }
 },
 "nbformat": 4,
 "nbformat_minor": 5
}
